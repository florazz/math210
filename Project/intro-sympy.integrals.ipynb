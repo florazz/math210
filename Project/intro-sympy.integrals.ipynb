{
 "cells": [
  {
   "cell_type": "markdown",
   "metadata": {
    "deletable": true,
    "editable": true
   },
   "source": [
    "# MATH 210 Project 1\n",
    "\n",
    "##  Approximating Integral Transforms with `sympy.integrals.transforms`\n"
   ]
  },
  {
   "cell_type": "markdown",
   "metadata": {
    "deletable": true,
    "editable": true
   },
   "source": [
    "SymPy is a symbolic computation package in Python used to deal with symbolic mathematics problems, in which the subpackage `sympy.integrals.transforms` is mainly designed to approxiamte different kinds of [integral transforms](https://en.wikipedia.org/wiki/Integral_transform#Table_of_transforms) and to efficiently solve some initial value problems as well as partial differential equations (refer to [Symbolic Integrals](http://docs.sympy.org/latest/modules/integrals/integrals.html)).\n",
    "\n",
    "**The objective** is to let the reader be generally informed about **three integral transforms** and learn how to use functions covered in the subpackage `sympy.integrals.transforms` to **approxiamte these transforms**. Specifically, we will explore the **Laplace transform**, **Fourier transform** and **Hankel transform**, with some of their **inverse transform** if necessary.\n",
    "\n",
    "By the end of this notebook, readers will be expected to perform the following functions to approximate corresponding transforms:\n",
    "\n",
    "* `sympy.integrals.transforms.laplace_transform` (see [source code](http://docs.sympy.org/latest/_modules/sympy/integrals/transforms.html#laplace_transform))\n",
    "* `sympy.integrals.transforms.fourier_transform` (see [source code](http://docs.sympy.org/latest/_modules/sympy/integrals/transforms.html#fourier_transform))\n",
    "* `sympy.integrals.transforms.hankel_transform` (see [source code](http://docs.sympy.org/latest/_modules/sympy/integrals/transforms.html#hankel_transform))\n"
   ]
  },
  {
   "cell_type": "markdown",
   "metadata": {
    "deletable": true,
    "editable": true
   },
   "source": [
    "## Contents"
   ]
  },
  {
   "cell_type": "markdown",
   "metadata": {
    "deletable": true,
    "editable": true
   },
   "source": [
    "1. Laplace Transform: `laplace_transform`\n",
    "2. Fourier Transform: `fourier_transform`\n",
    "3. Hankel Transform: `hankel_transform`\n",
    "4. Exercises"
   ]
  },
  {
   "cell_type": "code",
   "execution_count": null,
   "metadata": {
    "collapsed": false,
    "deletable": true,
    "editable": true
   },
   "outputs": [],
   "source": [
    "import numpy as np\n",
    "import matplotlib.pyplot as plt\n",
    "%matplotlib inline"
   ]
  },
  {
   "cell_type": "markdown",
   "metadata": {
    "deletable": true,
    "editable": true
   },
   "source": [
    "## 1. Laplace Transform\n",
    "\n",
    "### Definition of the Laplace transform\n",
    "\n",
    "The [Laplace transform](https://en.wikipedia.org/wiki/Laplace_transform) is an integral transform that changes a function $f(t)$ usually with time-domain to a function of frequency $s$, which is defined by:\n",
    "\n",
    "$$\n",
    "\\mathcal{L} \\{f(t)\\} = F(s) = \\int_{0}^{\\infty} e^{-s t} f(t) dt\n",
    "$$\n",
    "\n",
    "where $f(t)$ has to be defined for $t \\geq 0$. It's efficient to perform Laplace transform to solve some **differential equations** as well as **discontinuous functions** in practice using [Table of Laplace transform](http://tutorial.math.lamar.edu/Classes/DE/Laplace_Table.aspx)."
   ]
  },
  {
   "cell_type": "markdown",
   "metadata": {
    "deletable": true,
    "editable": true
   },
   "source": [
    "### `sympy.integrals.transforms.laplace_transform`"
   ]
  },
  {
   "cell_type": "markdown",
   "metadata": {
    "deletable": true,
    "editable": true
   },
   "source": [
    "The function `laplace_transform` can directly yield the Laplace transform of a given function $f$. It takes three parameters $f$, $t$ and $s$ where $f$ is the given funtion, $t$ is the independent variable of the funtion and $s$ is the complex variable in the resulting function. There is also an optional input as possible hints but is not necessarily included. \n",
    "\n",
    "Note that if you want to define the function $f$ before you perform `laplace_transform`, you should directly type **`f = ...`** rather than **`def f(t)`**. For example, for the function $f(t) = 3t$, you should write it as `f = 3*t` followed by `laplace_transform(f,t,s)`. Alternatively, you can write the complete expression of the given function in the position of the first input parameter.  \n",
    "\n",
    "Unlike other integral functions, `laplace_transform` usually returns a tuple with length 3 `(F, a, cond)` where `F` is the result of the Laplace transform, `a < Re(s)` is the region of convergence and the `cond` are additional convergence conditions. However, with special conditions, only $F$ with be returned (see [documentation](http://docs.sympy.org/latest/modules/integrals/integrals.html#sympy.integrals.transforms.laplace_transform) or type `laplace_transform?` for more information).\n",
    "\n",
    "Let's then try some examples to see how it actually works."
   ]
  },
  {
   "cell_type": "markdown",
   "metadata": {
    "deletable": true,
    "editable": true
   },
   "source": [
    "### Example 1: Laplace transform of an exponential function\n",
    "\n",
    "Let's find the Laplace transform of the funtion $e^{at}$ where $a$ is a constant using the function `laplace_transform` and compare it to the result in the [Table of Laplace transform](http://tutorial.math.lamar.edu/Classes/DE/Laplace_Table.aspx)."
   ]
  },
  {
   "cell_type": "code",
   "execution_count": null,
   "metadata": {
    "collapsed": true,
    "deletable": true,
    "editable": true
   },
   "outputs": [],
   "source": [
    "from sympy.integrals.transforms import laplace_transform\n",
    "from sympy.abc import t,s,a\n",
    "from sympy import exp"
   ]
  },
  {
   "cell_type": "code",
   "execution_count": null,
   "metadata": {
    "collapsed": false,
    "deletable": true,
    "editable": true
   },
   "outputs": [],
   "source": [
    "f = exp(a*t)\n",
    "laplace_transform(f,t,s)"
   ]
  },
  {
   "cell_type": "markdown",
   "metadata": {
    "deletable": true,
    "editable": true
   },
   "source": [
    "We know from #2 in the [Table of Laplace transform](http://tutorial.math.lamar.edu/Classes/DE/Laplace_Table.aspx) that $\\mathcal{L}\\{e^{at}\\} = \\frac{1}{s - a}$, which is exactly the same as the above result!"
   ]
  },
  {
   "cell_type": "markdown",
   "metadata": {
    "deletable": true,
    "editable": true
   },
   "source": [
    "### `sympy.integrals.transforms.inverse_laplace_transform`"
   ]
  },
  {
   "cell_type": "markdown",
   "metadata": {
    "deletable": true,
    "editable": true
   },
   "source": [
    "In practice, the Laplace transform(L.T.) and its inverse are usually used cooperatively to solve differential equations with initial condition(s). The [inverse L.T.](https://en.wikipedia.org/wiki/Laplace_transform#Inverse_Laplace_transform) is defined as:\n",
    "\n",
    "$$\n",
    "f(t) = \\int_{c-i\\infty}^{c+i\\infty} e^{st} F(s) ds\n",
    "$$\n",
    "\n",
    "Similar to the function `laplace_transform`, the `inverse_laplace_transform` takes three necessary parameters as well but the order changes a little bit. The first input parameter is the function $F(s)$ and the following inputs are $s$ and $t$ respectively. The inverse L.T. function in SymPy helps calculate inverse of $F(s)$ that are not in standard form like the one given in the [Table of Laplace transform](http://tutorial.math.lamar.edu/Classes/DE/Laplace_Table.aspx).\n",
    "\n",
    "Let's use both L.T. and inverse L.T. to solve a differential equation."
   ]
  },
  {
   "cell_type": "markdown",
   "metadata": {
    "deletable": true,
    "editable": true
   },
   "source": [
    "### Example 2: Solving an initial value problem"
   ]
  },
  {
   "cell_type": "markdown",
   "metadata": {
    "deletable": true,
    "editable": true
   },
   "source": [
    "Let's solve $y'' - 3y' + 2y = e^{3t}$, $y(0) = 1$, $y'(0) = 0$. First, we need to take Laplace transform of both sides. According to the [Table of Laplace transform](http://tutorial.math.lamar.edu/Classes/DE/Laplace_Table.aspx), we get $s^2Y(s)-s-3sY(s)+3+2Y(s)$ for the left side and $\\frac{1}{s-3}$ for the right side using the result in the previous example. Then, by arranging the equation we can find $Y(s) = \\frac{s-3+\\frac{1}{s-3}}{s^2-3s+2}$. Finally, we can work out the result by performing the funtion `inverse_laplace_transform` as shown below."
   ]
  },
  {
   "cell_type": "code",
   "execution_count": null,
   "metadata": {
    "collapsed": true,
    "deletable": true,
    "editable": true
   },
   "outputs": [],
   "source": [
    "from sympy.integrals.transforms import inverse_laplace_transform\n",
    "from sympy.abc import s,t"
   ]
  },
  {
   "cell_type": "code",
   "execution_count": null,
   "metadata": {
    "collapsed": false,
    "deletable": true,
    "editable": true
   },
   "outputs": [],
   "source": [
    "F = (s-3+(1/(s-3)))/(s**2-3*s+2)\n",
    "inverse_laplace_transform(F,s,t)"
   ]
  },
  {
   "cell_type": "markdown",
   "metadata": {
    "deletable": true,
    "editable": true
   },
   "source": [
    "Now, let's solve it by converting it into standard from and compare the result to the above.\n",
    "\n",
    "Using partial fraction decomposition method, we can get $Y(s) = \\frac{5}{2} \\frac{1}{s-1} - 2\\frac{1}{s-2} + \\frac{1}{2} \\frac{1}{s-3}$ and we know the inverse L.T. of $\\frac{1}{s - a}$ is $e^{at}$ as indicated in example 1. Thus, $y(t) = \\frac{5}{2} e^t - 2e^{2t} + \\frac{1}{2} e^{3t}$, which is the same as the result calculated by the function `inverse_laplace_transform`."
   ]
  },
  {
   "cell_type": "markdown",
   "metadata": {
    "deletable": true,
    "editable": true
   },
   "source": [
    "## 2. Fourier Transform\n",
    "\n",
    "### Definition of the Fourier transform\n",
    "\n",
    "The [Fourier transform](https://en.wikipedia.org/wiki/Fourier_transform) is an integral transform that takes a function of time and yields a corresponding function of frequency, an visual description of which from [Wikipedia](https://en.wikipedia.org/wiki/Fourier_transform) is shown below:\n",
    "\n",
    "![Fourier transform](https://upload.wikimedia.org/wikipedia/commons/5/51/Fourier_unit_pulse.svg)"
   ]
  },
  {
   "cell_type": "markdown",
   "metadata": {
    "deletable": true,
    "editable": true
   },
   "source": [
    "The [Fourier transform](https://en.wikipedia.org/wiki/Fourier_transform#Definition) is defined as the following function:\n",
    "\n",
    "$$\n",
    "\\mathcal{F}\\{f(x)\\} = F(k) = \\int_{-\\infty}^{\\infty} f(x) e^{-2\\pi ixk} dx\n",
    "$$\n",
    "\n",
    "And its [inverse](https://en.wikipedia.org/wiki/Fourier_transform#Definition) that works in a similar way as the inverse L.T., is defined as:\n",
    "\n",
    "$$\n",
    "f(x) = \\int_{-\\infty}^{\\infty} \\mathcal{F}(k)e^{2\\pi ixk} dk\n",
    "$$\n",
    "\n",
    "The Fourier transform and its inverse are well known as the tool to solve **partial differential equations**."
   ]
  },
  {
   "cell_type": "markdown",
   "metadata": {
    "deletable": true,
    "editable": true
   },
   "source": [
    "### `sympy.integrals.transforms.fourier_transform` "
   ]
  },
  {
   "cell_type": "markdown",
   "metadata": {
    "deletable": true,
    "editable": true
   },
   "source": [
    "The function `fourier_transform` takes three parameters $f$, $x$ and $k$ where $f$ is the given funtion, $x$ is the independent variable of the funtion and $k$ is the variable of the resulting function. There is also an optional input parameter but is not necessarily included (see [documentation](http://docs.sympy.org/latest/modules/integrals/integrals.html#sympy.integrals.transforms.fourier_transform) or type `fourier_transform?` for more information). \n",
    "\n",
    "Let's try an example to see how to use this function."
   ]
  },
  {
   "cell_type": "markdown",
   "metadata": {
    "deletable": true,
    "editable": true
   },
   "source": [
    "### Example 3: Fourier transform of a Gaussian function"
   ]
  },
  {
   "cell_type": "markdown",
   "metadata": {
    "deletable": true,
    "editable": true
   },
   "source": [
    "Recall that a [Gaussian function](https://en.wikipedia.org/wiki/Gaussian_function) is in the form of $f(x) = ae^{-\\frac{(x-b)^2}{2c^2}}$ where $a$, $b$ and $c$ are constants. From the [properties](https://en.wikipedia.org/wiki/Gaussian_function#Properties) of the Gaussian function we know that the Fourier transform of a Gaussian function is another Gaussian function. Let's now calculate the Fourier transform of a Gaussian function $f(x)=e^{-\\frac{x^2}{2}}$ using `fourier_transform` and plot the result to see if the above statement is true."
   ]
  },
  {
   "cell_type": "code",
   "execution_count": null,
   "metadata": {
    "collapsed": false,
    "deletable": true,
    "editable": true
   },
   "outputs": [],
   "source": [
    "from sympy.integrals.transforms import fourier_transform\n",
    "from sympy.abc import x,k\n",
    "from sympy import exp"
   ]
  },
  {
   "cell_type": "code",
   "execution_count": null,
   "metadata": {
    "collapsed": false,
    "deletable": true,
    "editable": true
   },
   "outputs": [],
   "source": [
    "f = exp(-x**2/2)\n",
    "fourier_transform(f,x,k)"
   ]
  },
  {
   "cell_type": "code",
   "execution_count": null,
   "metadata": {
    "collapsed": false,
    "deletable": true,
    "editable": true
   },
   "outputs": [],
   "source": [
    "x = np.linspace(-5,5,100)\n",
    "f = np.exp(-x**2/2)\n",
    "F = 2**0.5*np.pi**0.5*np.exp(-2*np.pi**2*x**2)\n",
    "plt.plot(x,f,'r.',x,F,'b'), plt.legend(['f(x)=exp(-x^2/2)','Fourier transform']);"
   ]
  },
  {
   "cell_type": "markdown",
   "metadata": {
    "deletable": true,
    "editable": true
   },
   "source": [
    "Indeed, the blue curve in the above diagram is a Gaussian function!"
   ]
  },
  {
   "cell_type": "markdown",
   "metadata": {
    "deletable": true,
    "editable": true
   },
   "source": [
    "### `sympy.integrals.transforms.inverse_fourier_transform` "
   ]
  },
  {
   "cell_type": "markdown",
   "metadata": {
    "deletable": true,
    "editable": true
   },
   "source": [
    "The `inverse_fourier_transform` takes three necessary parameters where the first input is $F(k)$ and the following inputs are $k$ and $x$ respectively. \n",
    "\n",
    "Let's utilize the above result to compute the inverse and see if it equals the function $f(x)$."
   ]
  },
  {
   "cell_type": "code",
   "execution_count": null,
   "metadata": {
    "collapsed": true,
    "deletable": true,
    "editable": true
   },
   "outputs": [],
   "source": [
    "from sympy import inverse_fourier_transform, sqrt, pi"
   ]
  },
  {
   "cell_type": "code",
   "execution_count": null,
   "metadata": {
    "collapsed": false,
    "deletable": true,
    "editable": true
   },
   "outputs": [],
   "source": [
    "F = sqrt(2)*sqrt(pi)*exp(-2*pi**2*k**2)\n",
    "inverse_fourier_transform(F,k,x)"
   ]
  },
  {
   "cell_type": "markdown",
   "metadata": {
    "deletable": true,
    "editable": true
   },
   "source": [
    "Yes, the result is exactly the same as $f(x)=e^{-\\frac{x^2}{2}}$!"
   ]
  },
  {
   "cell_type": "markdown",
   "metadata": {
    "deletable": true,
    "editable": true
   },
   "source": [
    "## 3. Hankel Transform\n",
    "\n",
    "### Definition of the Hankel transform\n",
    "\n",
    "The [Hankel transfrom](https://en.wikipedia.org/wiki/Hankel_transform) is an integral transform closely related to the Fourier transform, through which any function $f(r)$ is transformed based on the [Bessel funcitons](https://en.wikipedia.org/wiki/Bessel_function) of the [first kind $J_v(kr)$](https://en.wikipedia.org/wiki/Bessel_function#Bessel_functions_of_the_first_kind:_J.CE.B1). You can generally interpret the Bassel functions as the radial part of the following GIF from [Wikipedia](https://en.wikipedia.org/wiki/Hankel_transform):\n",
    "\n",
    "![Bessel function](https://upload.wikimedia.org/wikipedia/en/b/bc/Vibrating_drum_Bessel_function.gif)"
   ]
  },
  {
   "cell_type": "markdown",
   "metadata": {
    "deletable": true,
    "editable": true
   },
   "source": [
    "The [Hankel transform](https://en.wikipedia.org/wiki/Hankel_transform#Definition) of order $v$ is defined as:\n",
    "\n",
    "$$\n",
    "F_v(k) = \\int_0^{\\infty} f(r) J_v(kr) r dr\n",
    "$$\n",
    "\n",
    "And its [inverse function](https://en.wikipedia.org/wiki/Hankel_transform#Definition) is:\n",
    "\n",
    "$$\n",
    "f(r) = \\int_0^{\\infty} F_v(k) J_v(kr) k dk\n",
    "$$"
   ]
  },
  {
   "cell_type": "markdown",
   "metadata": {
    "deletable": true,
    "editable": true
   },
   "source": [
    "### `sympy.integrals.transforms.hankel_transform` "
   ]
  },
  {
   "cell_type": "markdown",
   "metadata": {
    "deletable": true,
    "editable": true
   },
   "source": [
    "The function `hankel_transform` takes four parameters $f$, $r$, $k$ and $nu$ where $f$ is any given funtion, $r$ is the independent variable of the funtion, $k$ is the variable of the resulting function and $nu$ is the order of the first kind of the Bessel function. There is also an optional input parameter but is not necessarily included (see [documentation](http://docs.sympy.org/latest/modules/integrals/integrals.html#sympy.integrals.transforms.hankel_transform) or type `hankel_transform?` for more information). \n",
    "\n",
    "Then, let's try some common examples of Hankel transform and see how to use `hankel_transform`."
   ]
  },
  {
   "cell_type": "code",
   "execution_count": null,
   "metadata": {
    "collapsed": true,
    "deletable": true,
    "editable": true
   },
   "outputs": [],
   "source": [
    "from sympy.integrals.transforms import hankel_transform\n",
    "from sympy import exp\n",
    "from sympy.abc import r,k,nu,a"
   ]
  },
  {
   "cell_type": "markdown",
   "metadata": {
    "deletable": true,
    "editable": true
   },
   "source": [
    "### Example 4: Hankel transform of $f(r)=r^a$"
   ]
  },
  {
   "cell_type": "code",
   "execution_count": null,
   "metadata": {
    "collapsed": false,
    "deletable": true,
    "editable": true
   },
   "outputs": [],
   "source": [
    "f = r**a\n",
    "hankel_transform(f,r,k,nu)"
   ]
  },
  {
   "cell_type": "markdown",
   "metadata": {
    "deletable": true,
    "editable": true
   },
   "source": [
    "### Example 5: Hankel transform of $f(r)=e^{-2r^2}$ with order 0"
   ]
  },
  {
   "cell_type": "code",
   "execution_count": null,
   "metadata": {
    "collapsed": false,
    "deletable": true,
    "editable": true
   },
   "outputs": [],
   "source": [
    "f = exp(-2*r**2)\n",
    "hankel_transform(f,r,k,0)"
   ]
  },
  {
   "cell_type": "markdown",
   "metadata": {
    "collapsed": true,
    "deletable": true,
    "editable": true
   },
   "source": [
    "### `sympy.integrals.transforms.inverse_hankel_transform` "
   ]
  },
  {
   "cell_type": "markdown",
   "metadata": {
    "deletable": true,
    "editable": true
   },
   "source": [
    "The `inverse_hankel_transform` takes four necessary parameters as well. The first input is $F(k)$, followed by $k$ and $r$ and finally the $nu$. \n",
    "\n",
    "Let's utilize the above result to compute the inverse and see if it equals the function $f(r)$."
   ]
  },
  {
   "cell_type": "code",
   "execution_count": null,
   "metadata": {
    "collapsed": true,
    "deletable": true,
    "editable": true
   },
   "outputs": [],
   "source": [
    "from sympy.integrals.transforms import inverse_hankel_transform"
   ]
  },
  {
   "cell_type": "code",
   "execution_count": null,
   "metadata": {
    "collapsed": false,
    "deletable": true,
    "editable": true
   },
   "outputs": [],
   "source": [
    "F = exp(-k**2/8)/4\n",
    "inverse_hankel_transform(F,k,r,0)"
   ]
  },
  {
   "cell_type": "markdown",
   "metadata": {
    "deletable": true,
    "editable": true
   },
   "source": [
    "As shown, the result is the same."
   ]
  },
  {
   "cell_type": "markdown",
   "metadata": {
    "deletable": true,
    "editable": true
   },
   "source": [
    "### Short Summary"
   ]
  },
  {
   "cell_type": "markdown",
   "metadata": {
    "deletable": true,
    "editable": true
   },
   "source": [
    "The three integral transforms introduced in this notebook have various applications in areas including mathematics, physics and engineering etc. And with the subpackage `sympy.integrals.transforms` we can solve problems more efficiently."
   ]
  },
  {
   "cell_type": "markdown",
   "metadata": {
    "deletable": true,
    "editable": true
   },
   "source": [
    "## 4. Exercises"
   ]
  },
  {
   "cell_type": "markdown",
   "metadata": {
    "collapsed": true,
    "deletable": true,
    "editable": true
   },
   "source": [
    "** Exercise 1.** Solve the initial value problem $y'' - 10y' + 9y = 5t$, $y(0) = -1$, $y'(0) = 2$ using `laplace_transform` and `inverse_laplace_transform` with the help of the [Table of Laplace transform](http://tutorial.math.lamar.edu/Classes/DE/Laplace_Table.aspx)."
   ]
  },
  {
   "cell_type": "markdown",
   "metadata": {
    "collapsed": true,
    "deletable": true,
    "editable": true
   },
   "source": [
    "** Exercise 2.** Find the Fourier transform of $f(t) = \\frac{1}{t^2+1}$ using `fourier_transform`."
   ]
  },
  {
   "cell_type": "markdown",
   "metadata": {
    "deletable": true,
    "editable": true
   },
   "source": [
    "** Exercise 3.** Find the inverse Hankel transform of $F(k) = \\frac{e^{-2k}}{k}$ using `inverse_hankel_transform`."
   ]
  }
 ],
 "metadata": {
  "kernelspec": {
   "display_name": "Python 3",
   "language": "python",
   "name": "python3"
  },
  "language_info": {
   "codemirror_mode": {
    "name": "ipython",
    "version": 3
   },
   "file_extension": ".py",
   "mimetype": "text/x-python",
   "name": "python",
   "nbconvert_exporter": "python",
   "pygments_lexer": "ipython3",
   "version": "3.5.2"
  }
 },
 "nbformat": 4,
 "nbformat_minor": 2
}
