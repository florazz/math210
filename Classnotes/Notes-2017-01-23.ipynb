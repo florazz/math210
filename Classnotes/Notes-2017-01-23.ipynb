{
 "cells": [
  {
   "cell_type": "markdown",
   "metadata": {},
   "source": [
    "# Math 210\n",
    "\n",
    "## Jan 23, 2017\n",
    "\n",
    "1. More about for loops\n",
    "  * Constructing sequences\n",
    "    * Sequences by formulas (nonrecursive)\n",
    "    * Recursive sequences\n",
    "2. while loops\n",
    "3. Exercises"
   ]
  },
  {
   "cell_type": "markdown",
   "metadata": {},
   "source": [
    "## 1. More about for loops\n",
    "\n",
    "### Constructing sequences\n",
    "\n",
    "There are several ways to construct a sequence of values and to save them in a Python list.\n",
    "\n",
    "For example, we have list comprehensions:"
   ]
  },
  {
   "cell_type": "code",
   "execution_count": 1,
   "metadata": {
    "collapsed": false
   },
   "outputs": [
    {
     "data": {
      "text/plain": [
       "[1, 4, 9, 16, 25, 36, 49, 64, 81]"
      ]
     },
     "execution_count": 1,
     "metadata": {},
     "output_type": "execute_result"
    }
   ],
   "source": [
    "[d**2 for d in range (1,10)]"
   ]
  },
  {
   "cell_type": "markdown",
   "metadata": {},
   "source": [
    "But we can only use list comprehensions when the sequence values are defined by a formula. This is called a nonrecursive sequence."
   ]
  },
  {
   "cell_type": "markdown",
   "metadata": {},
   "source": [
    "But what if we want to construct a sequence where the next alue depends on the previous value?\n",
    "Consider the Finonacci sequence:"
   ]
  },
  {
   "cell_type": "markdown",
   "metadata": {},
   "source": [
    "$$\n",
    "x_1 = 1, x_2 = 1, x_3 = 2, x_4 =3, x_5 = 5, ...\n",
    "$$\n",
    "\n",
    "where $$x_{n}=x_{n-1} + x_{n-2}$$.\n",
    "\n",
    "We can't use a list comprehension to build the list of Fibonacci numbers, and so we use a for loop instead."
   ]
  },
  {
   "cell_type": "code",
   "execution_count": 3,
   "metadata": {
    "collapsed": false
   },
   "outputs": [
    {
     "name": "stdout",
     "output_type": "stream",
     "text": [
      "[1, 1, 2]\n",
      "[1, 1, 2, 3]\n",
      "[1, 1, 2, 3, 5]\n",
      "[1, 1, 2, 3, 5, 8]\n",
      "[1, 1, 2, 3, 5, 8, 13]\n",
      "[1, 1, 2, 3, 5, 8, 13, 21]\n",
      "[1, 1, 2, 3, 5, 8, 13, 21, 34]\n",
      "[1, 1, 2, 3, 5, 8, 13, 21, 34, 55]\n",
      "[1, 1, 2, 3, 5, 8, 13, 21, 34, 55, 89]\n",
      "[1, 1, 2, 3, 5, 8, 13, 21, 34, 55, 89, 144]\n",
      "[1, 1, 2, 3, 5, 8, 13, 21, 34, 55, 89, 144, 233]\n",
      "[1, 1, 2, 3, 5, 8, 13, 21, 34, 55, 89, 144, 233, 377]\n",
      "[1, 1, 2, 3, 5, 8, 13, 21, 34, 55, 89, 144, 233, 377, 610]\n",
      "[1, 1, 2, 3, 5, 8, 13, 21, 34, 55, 89, 144, 233, 377, 610, 987]\n",
      "[1, 1, 2, 3, 5, 8, 13, 21, 34, 55, 89, 144, 233, 377, 610, 987, 1597]\n",
      "[1, 1, 2, 3, 5, 8, 13, 21, 34, 55, 89, 144, 233, 377, 610, 987, 1597, 2584]\n",
      "[1, 1, 2, 3, 5, 8, 13, 21, 34, 55, 89, 144, 233, 377, 610, 987, 1597, 2584, 4181]\n",
      "[1, 1, 2, 3, 5, 8, 13, 21, 34, 55, 89, 144, 233, 377, 610, 987, 1597, 2584, 4181, 6765]\n"
     ]
    }
   ],
   "source": [
    "fib_list = [1,1]\n",
    "for n in range(2,20):\n",
    "    fib_list_n = fib_list[n-1]+fib_list[n-2]\n",
    "    fib_list.append(fib_list_n)\n",
    "    print(fib_list)"
   ]
  },
  {
   "cell_type": "markdown",
   "metadata": {},
   "source": [
    "Let's write a function called `fib_less_than` which takes one input $N$ and returns the list of Fibonacci numbers less than $N$."
   ]
  },
  {
   "cell_type": "code",
   "execution_count": 11,
   "metadata": {
    "collapsed": true
   },
   "outputs": [],
   "source": [
    "def fib_less_than(N):\n",
    "    \"\"\"Compute the list of Fibonacci numbers less than N.\"\"\"\n",
    "    fib_list = [1,1]\n",
    "    for n in range(2,N):\n",
    "        fib_list_n = fib_list[n-1]+fib_list[n-2]\n",
    "        if fib_list_n < N:\n",
    "            fib_list.append(fib_list_n)\n",
    "        else:\n",
    "            # Stop the loop if the last Fibonnaci number computed\n",
    "            # is bigger than N\n",
    "            break\n",
    "    return fib_list"
   ]
  },
  {
   "cell_type": "code",
   "execution_count": 12,
   "metadata": {
    "collapsed": false
   },
   "outputs": [
    {
     "data": {
      "text/plain": [
       "[1, 1, 2, 3]"
      ]
     },
     "execution_count": 12,
     "metadata": {},
     "output_type": "execute_result"
    }
   ],
   "source": [
    "fib_less_than(5)"
   ]
  },
  {
   "cell_type": "code",
   "execution_count": 13,
   "metadata": {
    "collapsed": false
   },
   "outputs": [
    {
     "data": {
      "text/plain": [
       "[1, 1, 2, 3, 5, 8, 13, 21, 34, 55, 89]"
      ]
     },
     "execution_count": 13,
     "metadata": {},
     "output_type": "execute_result"
    }
   ],
   "source": [
    "fib_less_than(100)"
   ]
  },
  {
   "cell_type": "markdown",
   "metadata": {},
   "source": [
    "Write a function called `collatz` which takes one input parameter `a` and computes the Collatz sequence defined by:\n",
    "\n",
    "$x_{n+1} = x_{n}/2$ if $x_{n}$ is even\n",
    "$x_{n+1} = 3x_{n}+1$ if $x_{n}$ is odd\n",
    "\n",
    "where $x_0 =a$ and the sequence terminates at 1."
   ]
  },
  {
   "cell_type": "markdown",
   "metadata": {},
   "source": [
    "For example, if $a=10$ then $x_1=5, x_2=16, x_3=8, x_4=4,x_5=2$ and $x_6=1$."
   ]
  },
  {
   "cell_type": "code",
   "execution_count": 18,
   "metadata": {
    "collapsed": true
   },
   "outputs": [],
   "source": [
    "def collatz(a):\n",
    "    \"\"\"Compute the Collatz sequence starting at a.\"\"\"\n",
    "    # Initialize the sequence with the first value a.\n",
    "    x_list = [a]\n",
    "    # Continue computing values in the sequence until we reach 1.\n",
    "    while x_list[-1] != 1:\n",
    "        # Check if the last element in the list is even\n",
    "        if x_list[-1] % 2 == 0:\n",
    "        # Compute and append the new values\n",
    "            x_list.append(x_list[-1] // 2)\n",
    "        else:\n",
    "            x_list.append(3*x_list[-1]+1)\n",
    "        print(x_list)\n",
    "    return x_list"
   ]
  },
  {
   "cell_type": "code",
   "execution_count": 19,
   "metadata": {
    "collapsed": false
   },
   "outputs": [
    {
     "name": "stdout",
     "output_type": "stream",
     "text": [
      "[10, 5]\n",
      "[10, 5, 16]\n",
      "[10, 5, 16, 8]\n",
      "[10, 5, 16, 8, 4]\n",
      "[10, 5, 16, 8, 4, 2]\n",
      "[10, 5, 16, 8, 4, 2, 1]\n"
     ]
    },
    {
     "data": {
      "text/plain": [
       "[10, 5, 16, 8, 4, 2, 1]"
      ]
     },
     "execution_count": 19,
     "metadata": {},
     "output_type": "execute_result"
    }
   ],
   "source": [
    "collatz(10)"
   ]
  },
  {
   "cell_type": "code",
   "execution_count": null,
   "metadata": {
    "collapsed": true
   },
   "outputs": [],
   "source": []
  }
 ],
 "metadata": {
  "kernelspec": {
   "display_name": "Python 3",
   "language": "python",
   "name": "python3"
  },
  "language_info": {
   "codemirror_mode": {
    "name": "ipython",
    "version": 3
   },
   "file_extension": ".py",
   "mimetype": "text/x-python",
   "name": "python",
   "nbconvert_exporter": "python",
   "pygments_lexer": "ipython3",
   "version": "3.5.2"
  }
 },
 "nbformat": 4,
 "nbformat_minor": 1
}
