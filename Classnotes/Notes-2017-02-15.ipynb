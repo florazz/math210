{
 "cells": [
  {
   "cell_type": "markdown",
   "metadata": {
    "deletable": true,
    "editable": true
   },
   "source": [
    "# Math 210\n",
    "\n",
    "## Feb 15, 2017\n",
    "\n",
    "1. Number Theory\n",
    "2. Sequences\n",
    "3. Series\n",
    "4. Solving equations\n",
    "5. Plotting"
   ]
  },
  {
   "cell_type": "code",
   "execution_count": null,
   "metadata": {
    "collapsed": false,
    "deletable": true,
    "editable": true
   },
   "outputs": [],
   "source": [
    "import numpy as np\n",
    "import matplotlib.pyplot as plt\n",
    "%matplotlib inline"
   ]
  },
  {
   "cell_type": "markdown",
   "metadata": {
    "deletable": true,
    "editable": true
   },
   "source": [
    "## 1. Number Theory\n",
    "\n",
    "Let's plot the function $\\pi(x)$ where $\\pi(x)$ is the number of primes less than $x$."
   ]
  },
  {
   "cell_type": "code",
   "execution_count": null,
   "metadata": {
    "collapsed": true,
    "deletable": true,
    "editable": true
   },
   "outputs": [],
   "source": [
    "def is_prime(N):\n",
    "    if N<2:\n",
    "        return False\n",
    "    else:\n",
    "        for d in range (2, int(N**0.5)+1):\n",
    "            if N%d ==0:\n",
    "                return False\n",
    "        return True"
   ]
  },
  {
   "cell_type": "code",
   "execution_count": null,
   "metadata": {
    "collapsed": false,
    "deletable": true,
    "editable": true
   },
   "outputs": [],
   "source": [
    "is_prime(13)"
   ]
  },
  {
   "cell_type": "code",
   "execution_count": null,
   "metadata": {
    "collapsed": true,
    "deletable": true,
    "editable": true
   },
   "outputs": [],
   "source": [
    "def pi(x):\n",
    "    # Create an array of 0 and 1 where Nth entry is 1 if N is prime and 0 otherwise\n",
    "    primes = []\n",
    "    for n in range(0,x+1):\n",
    "        if is_prime(n):\n",
    "            primes.append(1)\n",
    "        else:\n",
    "            primes.append(0)\n",
    "    # Convert list into a Numpy array\n",
    "    primes = np.array(primes)\n",
    "    return primes.cumsum()"
   ]
  },
  {
   "cell_type": "code",
   "execution_count": null,
   "metadata": {
    "collapsed": false,
    "deletable": true,
    "editable": true
   },
   "outputs": [],
   "source": [
    "pi(10)"
   ]
  },
  {
   "cell_type": "code",
   "execution_count": null,
   "metadata": {
    "collapsed": false,
    "deletable": true,
    "editable": true
   },
   "outputs": [],
   "source": [
    "pi(-1)"
   ]
  },
  {
   "cell_type": "code",
   "execution_count": null,
   "metadata": {
    "collapsed": false,
    "deletable": true,
    "editable": true
   },
   "outputs": [],
   "source": [
    "plt.plot(pi(1000));"
   ]
  },
  {
   "cell_type": "markdown",
   "metadata": {
    "deletable": true,
    "editable": true
   },
   "source": [
    "## 2. Sequences"
   ]
  },
  {
   "cell_type": "markdown",
   "metadata": {
    "deletable": true,
    "editable": true
   },
   "source": [
    "Let's write a function called `e_sequence` which takes 1 input parameter $N$ and returns the sequence $x_1,\\dots,x_N$ (as a Python list of length $N$) where\n",
    "$$\n",
    "x_{n}=\\left(1+\\frac{1}{n}\\right)^n\n",
    "$$"
   ]
  },
  {
   "cell_type": "code",
   "execution_count": null,
   "metadata": {
    "collapsed": true,
    "deletable": true,
    "editable": true
   },
   "outputs": [],
   "source": [
    "def e_sequence(N):\n",
    "    return [(1+1/n)**n for n in range(1, N+1)]"
   ]
  },
  {
   "cell_type": "code",
   "execution_count": null,
   "metadata": {
    "collapsed": false,
    "deletable": true,
    "editable": true
   },
   "outputs": [],
   "source": [
    "e_sequence(10)"
   ]
  },
  {
   "cell_type": "code",
   "execution_count": null,
   "metadata": {
    "collapsed": false,
    "deletable": true,
    "editable": true
   },
   "outputs": [],
   "source": [
    "def e_sequence2(N):\n",
    "    e_seq=[]\n",
    "    for n in range(1,N+1):\n",
    "        xn=(1+1/n)**n\n",
    "        e_seq.append(xn)\n",
    "    return e_seq"
   ]
  },
  {
   "cell_type": "code",
   "execution_count": null,
   "metadata": {
    "collapsed": false,
    "deletable": true,
    "editable": true
   },
   "outputs": [],
   "source": [
    "e_sequence(100000)[-1]"
   ]
  },
  {
   "cell_type": "markdown",
   "metadata": {
    "deletable": true,
    "editable": true
   },
   "source": [
    "## 3. Series"
   ]
  },
  {
   "cell_type": "markdown",
   "metadata": {
    "deletable": true,
    "editable": true
   },
   "source": [
    "Let's write a func called `cosine_series` which takes 2 input parameters $x$ and $N$ and computes the series $$\\sum_{k=1}^{N}\\frac{\\cos(kx)}{k^2}$$."
   ]
  },
  {
   "cell_type": "code",
   "execution_count": null,
   "metadata": {
    "collapsed": true,
    "deletable": true,
    "editable": true
   },
   "outputs": [],
   "source": [
    "def cosine_series(x,N):\n",
    "    return np.sum([np.cos(k*x)/k**2 for k in range(1,N+1)])"
   ]
  },
  {
   "cell_type": "code",
   "execution_count": null,
   "metadata": {
    "collapsed": true,
    "deletable": true,
    "editable": true
   },
   "outputs": [],
   "source": [
    "def cosine_series2(x,N):\n",
    "    return sum([np.cos(k*x)/k**2 for k in range(1,N+1)])"
   ]
  },
  {
   "cell_type": "code",
   "execution_count": null,
   "metadata": {
    "collapsed": false,
    "deletable": true,
    "editable": true
   },
   "outputs": [],
   "source": [
    "%%timeit\n",
    "cosine_series2(1,10000)"
   ]
  },
  {
   "cell_type": "code",
   "execution_count": null,
   "metadata": {
    "collapsed": false,
    "deletable": true,
    "editable": true
   },
   "outputs": [],
   "source": [
    "%%timeit\n",
    "cosine_series(1,10000)"
   ]
  },
  {
   "cell_type": "markdown",
   "metadata": {
    "deletable": true,
    "editable": true
   },
   "source": [
    "## 4. Solving equations"
   ]
  },
  {
   "cell_type": "markdown",
   "metadata": {
    "deletable": true,
    "editable": true
   },
   "source": [
    "Write a func called ` pells_equation` which takes 2 input parameters `n` and `x_range` (Python list of length 2) and returns the list of integer solutions to Pell's equation $x^2-ny^2 =1$ with $x$ in the interval $[a,b]$ defined by `x_range`."
   ]
  },
  {
   "cell_type": "code",
   "execution_count": null,
   "metadata": {
    "collapsed": false,
    "deletable": true,
    "editable": true
   },
   "outputs": [],
   "source": [
    "def is_square(x):\n",
    "    if x < 0:\n",
    "        return False\n",
    "    else:\n",
    "        return round(x**0.5)**2 == x"
   ]
  },
  {
   "cell_type": "code",
   "execution_count": null,
   "metadata": {
    "collapsed": true,
    "deletable": true,
    "editable": true
   },
   "outputs": [],
   "source": [
    "def pells_equation(n,x_range):\n",
    "    a = x_range[0]\n",
    "    b = x_range[1]\n",
    "    solutions = []\n",
    "    for x in range (a,b+1):\n",
    "        y_squared = (x**2 -1)/n\n",
    "        if is_square(y_squared):\n",
    "            y = round(y_squared**0.5)\n",
    "            solutions.append([x,y])\n",
    "    return solutions"
   ]
  },
  {
   "cell_type": "code",
   "execution_count": null,
   "metadata": {
    "collapsed": false,
    "deletable": true,
    "editable": true
   },
   "outputs": [],
   "source": [
    "pells_equation(5,[0,1000])"
   ]
  },
  {
   "cell_type": "code",
   "execution_count": null,
   "metadata": {
    "collapsed": true,
    "deletable": true,
    "editable": true
   },
   "outputs": [],
   "source": []
  }
 ],
 "metadata": {
  "kernelspec": {
   "display_name": "Python 3",
   "language": "python",
   "name": "python3"
  },
  "language_info": {
   "codemirror_mode": {
    "name": "ipython",
    "version": 3
   },
   "file_extension": ".py",
   "mimetype": "text/x-python",
   "name": "python",
   "nbconvert_exporter": "python",
   "pygments_lexer": "ipython3",
   "version": "3.5.2"
  }
 },
 "nbformat": 4,
 "nbformat_minor": 1
}
