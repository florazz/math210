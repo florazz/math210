{
 "cells": [
  {
   "cell_type": "markdown",
   "metadata": {},
   "source": [
    "# Math 210\n",
    "\n",
    "## March 31, 2017\n",
    "\n",
    "* Wind data example:\n",
    "    * Prasing dates with datetime object\n",
    "    * Use .map to manipulate a dataframe\n",
    "    * Use dataframe methods: .max, .min, .mean, etc...\n",
    "    * Groupby\n",
    "    * More plotting"
   ]
  },
  {
   "cell_type": "code",
   "execution_count": null,
   "metadata": {
    "collapsed": true
   },
   "outputs": [],
   "source": [
    "import numpy as np\n",
    "import matplotlib.pyplot as plt\n",
    "import pandas as pd\n",
    "%matplotlib inline"
   ]
  },
  {
   "cell_type": "markdown",
   "metadata": {},
   "source": [
    "## Wind data from the Vancouver Airport\n",
    "\n",
    "Vancouver weather data is available on [Environment Canada's webpage](https://weather.gc.ca/city/pages/bc-74_metric_e.html)."
   ]
  },
  {
   "cell_type": "code",
   "execution_count": null,
   "metadata": {
    "collapsed": true
   },
   "outputs": [],
   "source": [
    "weather = pd.read_csv(\"http://www.math.ubc.ca/~pwalls/data/weatherstats_vancouver_hourly.csv\"\n",
    "                     ,usecols = [0,2,4,6,10],parse_dates=[0])"
   ]
  },
  {
   "cell_type": "code",
   "execution_count": null,
   "metadata": {
    "collapsed": false
   },
   "outputs": [],
   "source": [
    "weather.head()"
   ]
  },
  {
   "cell_type": "code",
   "execution_count": null,
   "metadata": {
    "collapsed": false
   },
   "outputs": [],
   "source": [
    "weather.info()"
   ]
  },
  {
   "cell_type": "code",
   "execution_count": null,
   "metadata": {
    "collapsed": true
   },
   "outputs": [],
   "source": [
    "pd.datetime?"
   ]
  },
  {
   "cell_type": "code",
   "execution_count": null,
   "metadata": {
    "collapsed": true
   },
   "outputs": [],
   "source": [
    "right_now = pd.datetime(2017,3,31,2,15,0)"
   ]
  },
  {
   "cell_type": "code",
   "execution_count": null,
   "metadata": {
    "collapsed": false
   },
   "outputs": [],
   "source": [
    "type(right_now)"
   ]
  },
  {
   "cell_type": "code",
   "execution_count": null,
   "metadata": {
    "collapsed": false
   },
   "outputs": [],
   "source": [
    "right_now.year"
   ]
  },
  {
   "cell_type": "code",
   "execution_count": null,
   "metadata": {
    "collapsed": false
   },
   "outputs": [],
   "source": [
    "right_now.day"
   ]
  },
  {
   "cell_type": "code",
   "execution_count": null,
   "metadata": {
    "collapsed": true
   },
   "outputs": [],
   "source": [
    "weather['Year'] = weather ['date_time_local'].map(lambda d: d.year)\n",
    "weather['Month'] = weather ['date_time_local'].map(lambda d: d.month)\n",
    "weather['Day'] = weather ['date_time_local'].map(lambda d: d.day)\n",
    "weather['Hour'] = weather ['date_time_local'].map(lambda d: d.hour)"
   ]
  },
  {
   "cell_type": "code",
   "execution_count": null,
   "metadata": {
    "collapsed": false
   },
   "outputs": [],
   "source": [
    "weather.head()"
   ]
  },
  {
   "cell_type": "code",
   "execution_count": null,
   "metadata": {
    "collapsed": false
   },
   "outputs": [],
   "source": [
    "weather.info()"
   ]
  },
  {
   "cell_type": "markdown",
   "metadata": {},
   "source": [
    "### Predominant wind direction by month"
   ]
  },
  {
   "cell_type": "code",
   "execution_count": null,
   "metadata": {
    "collapsed": false
   },
   "outputs": [],
   "source": [
    "weather.groupby('wind_dir').size().plot(kind='bar')"
   ]
  },
  {
   "cell_type": "code",
   "execution_count": null,
   "metadata": {
    "collapsed": false
   },
   "outputs": [],
   "source": [
    "weather.groupby('wind_dir').size()"
   ]
  },
  {
   "cell_type": "code",
   "execution_count": null,
   "metadata": {
    "collapsed": false
   },
   "outputs": [],
   "source": [
    "months = ['January','Febuary','March','April','May','June','July','August','September','October','November','Secember']\n",
    "plt.figure(figsize=(12,6))\n",
    "plt.subplot(3,4,1)\n",
    "for month in range(1,13):\n",
    "    plt.subplot(3,4,month)\n",
    "    wind_directions = weather[weather['Month'] == month].groupby('wind_dir').size()\n",
    "    wind_directions = wind_directions / wind_directions.sum() * 100\n",
    "    wind_directions.plot(kind = 'bar')\n",
    "    plt.tight_layout()\n",
    "    plt.title(months[month -1]), plt.xlabel(''), plt.ylim([0,50])"
   ]
  },
  {
   "cell_type": "markdown",
   "metadata": {},
   "source": [
    "### Wind speed diurnal patterns"
   ]
  },
  {
   "cell_type": "code",
   "execution_count": null,
   "metadata": {
    "collapsed": false
   },
   "outputs": [],
   "source": [
    "weather.groupby('Hour')['wind_speed'].mean().plot()"
   ]
  },
  {
   "cell_type": "code",
   "execution_count": null,
   "metadata": {
    "collapsed": false
   },
   "outputs": [],
   "source": [
    "months = ['January','Febuary','March','April','May','June','July','August','September','October','November','Secember']\n",
    "plt.figure(figsize=(12,6))\n",
    "plt.subplot(3,4,1)\n",
    "for month in range(1,13):\n",
    "    plt.subplot(3,4,month)\n",
    "    weather[weather['Month'] == month].groupby('Hour')['wind_speed'].mean().plot()\n",
    "    plt.tight_layout()\n",
    "    plt.title(months[month -1]), plt.xlabel(''), plt.ylim([0,20])"
   ]
  },
  {
   "cell_type": "markdown",
   "metadata": {},
   "source": [
    "## Vancouver Crime Data"
   ]
  },
  {
   "cell_type": "markdown",
   "metadata": {},
   "source": [
    "[Van data](http://vancouver.ca/your-government/open-data-catalogue.aspx) here"
   ]
  },
  {
   "cell_type": "code",
   "execution_count": null,
   "metadata": {
    "collapsed": true
   },
   "outputs": [],
   "source": [
    "crime = pd.read_csv('http://www.math.ubc.ca/~pwalls/data/van_crime.csv')"
   ]
  },
  {
   "cell_type": "code",
   "execution_count": null,
   "metadata": {
    "collapsed": false
   },
   "outputs": [],
   "source": [
    "crime.head()"
   ]
  },
  {
   "cell_type": "code",
   "execution_count": null,
   "metadata": {
    "collapsed": false
   },
   "outputs": [],
   "source": [
    "crime.info()"
   ]
  },
  {
   "cell_type": "code",
   "execution_count": null,
   "metadata": {
    "collapsed": false
   },
   "outputs": [],
   "source": [
    "plt.figure(figsize=(12,12))\n",
    "crime[crime['X'] > 0].plot(kind='scatter',x='X',y='Y',alpha = 0.2,s=2)"
   ]
  },
  {
   "cell_type": "code",
   "execution_count": null,
   "metadata": {
    "collapsed": true
   },
   "outputs": [],
   "source": []
  }
 ],
 "metadata": {
  "kernelspec": {
   "display_name": "Python 3",
   "language": "python",
   "name": "python3"
  },
  "language_info": {
   "codemirror_mode": {
    "name": "ipython",
    "version": 3
   },
   "file_extension": ".py",
   "mimetype": "text/x-python",
   "name": "python",
   "nbconvert_exporter": "python",
   "pygments_lexer": "ipython3",
   "version": "3.5.2"
  }
 },
 "nbformat": 4,
 "nbformat_minor": 2
}
