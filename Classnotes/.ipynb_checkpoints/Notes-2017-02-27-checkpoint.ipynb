{
 "cells": [
  {
   "cell_type": "markdown",
   "metadata": {
    "deletable": true,
    "editable": true
   },
   "source": [
    "# Math 210\n",
    "\n",
    "## Feb 27, 2017\n",
    "\n",
    "1. Approximating definite integrals\n",
    "    * Riemann sums\n",
    "    * Trapozoid rules\n",
    "2. Approximating integrals with scipy.integrate\n",
    "    * `trapz`\n",
    "    * `simps`\n",
    "    * `quad`\n",
    "3. Exercises"
   ]
  },
  {
   "cell_type": "code",
   "execution_count": null,
   "metadata": {
    "collapsed": true,
    "deletable": true,
    "editable": true
   },
   "outputs": [],
   "source": [
    "import numpy as np\n",
    "import matplotlib.pyplot as plt\n",
    "%matplotlib inline"
   ]
  },
  {
   "cell_type": "markdown",
   "metadata": {
    "deletable": true,
    "editable": true
   },
   "source": [
    "## 1. Approximating definite integrals"
   ]
  },
  {
   "cell_type": "markdown",
   "metadata": {
    "deletable": true,
    "editable": true
   },
   "source": [
    "The definite integral of a function $f(x)$ over the interval $[a,b]$ is defined as a limit of Riemann sums\n",
    "\n",
    "$$\n",
    "\\int_a^b f(x) \\, dx=\\lim_{n \\to \\infty} \\sum_{i=1}^n f(x_i^*) (x_i - x_{i-1}) \\, \\ x_i^* \\in [x_{i-1},x_i]\n",
    "$$"
   ]
  },
  {
   "cell_type": "markdown",
   "metadata": {
    "deletable": true,
    "editable": true
   },
   "source": [
    "### Riemann sums\n",
    "\n",
    "Let's write a function called `riemann_sum` which takes 5 input parameters `f`, `a`, `b`, `n` and `method` and returns the Riemann sum\n",
    "\n",
    "$$\n",
    "\\sum_{i=1}^n f(x_i^*) (x_i - x_{i-1})\n",
    "$$\n",
    "\n",
    "where the partion $a=x_0 < x_1 < \\cdots \n",
    "< x_{n} = b$ has subintervals of equal length, and `method` determines whether we use left endpoints, right endpoints or midpoints(and set midpoint to be the default method)."
   ]
  },
  {
   "cell_type": "code",
   "execution_count": null,
   "metadata": {
    "collapsed": true,
    "deletable": true,
    "editable": true
   },
   "outputs": [],
   "source": [
    "def riemann_sum(f,a,b,n,method='midpoint'):\n",
    "    \"\"\"Compute the Riemann Sum of f(x) over the interval [a,b] using a partition with n \n",
    "    subintervals of equal length.\n",
    "    \n",
    "    INPUT:\n",
    "    f (function): Vectorized function of one variable\n",
    "    a,b(numbers): Defines the interval [a,b]\n",
    "    n (int): Number of subintervals in the partition of [a,b]\n",
    "    method(str): Determines the kind of Riemann sum\n",
    "        right: Riemann sum using right endpoints\n",
    "        left:  Riemann sum using left endpoints\n",
    "        midpoint: Riemann sum using midpoint\"\"\"\n",
    "    # Length of each subinterval\n",
    "    dx = (b-a)/n\n",
    "    # Array of endpoints\n",
    "    x = np.linspace(a,b,n+1)\n",
    "    if method == 'left':\n",
    "        # Compute left Riemann sum\n",
    "        # Array of left endpoints\n",
    "        x = x[0:-1]\n",
    "        return np.sum(f(x)*dx)\n",
    "    elif method == 'right':\n",
    "        # Compute right Riemann sum\n",
    "        # Array of right endpoints\n",
    "        x=x[1:]\n",
    "        return np.sum(f(x)*dx)\n",
    "    elif method == 'midpoint':\n",
    "        # Compute Riemann sum with midpoints\n",
    "        x = (x[0:-1] + x[1:])/2 # Or x=x[0:-1] + dx/2\n",
    "        return np.sum(f(x)*dx)\n",
    "    else:\n",
    "        # Don't recognize the method\n",
    "        print('Method', method, 'undefined.')\n",
    "        return None"
   ]
  },
  {
   "cell_type": "code",
   "execution_count": null,
   "metadata": {
    "collapsed": false,
    "deletable": true,
    "editable": true
   },
   "outputs": [],
   "source": [
    "u=np.array([0,1,2,3,4])"
   ]
  },
  {
   "cell_type": "code",
   "execution_count": null,
   "metadata": {
    "collapsed": false,
    "deletable": true,
    "editable": true
   },
   "outputs": [],
   "source": [
    "u[0:-1]"
   ]
  },
  {
   "cell_type": "code",
   "execution_count": null,
   "metadata": {
    "collapsed": false,
    "deletable": true,
    "editable": true
   },
   "outputs": [],
   "source": [
    "riemann_sum(np.sin,0,np.pi/2,100)"
   ]
  },
  {
   "cell_type": "code",
   "execution_count": null,
   "metadata": {
    "collapsed": false,
    "deletable": true,
    "editable": true
   },
   "outputs": [],
   "source": [
    "riemann_sum(np.sin,0,np.pi/2,100,'right')"
   ]
  },
  {
   "cell_type": "code",
   "execution_count": null,
   "metadata": {
    "collapsed": false,
    "deletable": true,
    "editable": true
   },
   "outputs": [],
   "source": [
    "riemann_sum(np.sin,0,np.pi/2,100,'left')"
   ]
  },
  {
   "cell_type": "code",
   "execution_count": null,
   "metadata": {
    "collapsed": false,
    "deletable": true,
    "editable": true
   },
   "outputs": [],
   "source": [
    "def fun(x):\n",
    "    return x"
   ]
  },
  {
   "cell_type": "code",
   "execution_count": null,
   "metadata": {
    "collapsed": false,
    "deletable": true,
    "editable": true
   },
   "outputs": [],
   "source": [
    "riemann_sum(fun,0,1,100)"
   ]
  },
  {
   "cell_type": "code",
   "execution_count": null,
   "metadata": {
    "collapsed": false,
    "deletable": true,
    "editable": true
   },
   "outputs": [],
   "source": [
    "riemann_sum(np.cos,0,np.pi/2,1)"
   ]
  },
  {
   "cell_type": "markdown",
   "metadata": {
    "deletable": true,
    "editable": true
   },
   "source": [
    "## 2. Approximating integrals with scipy.integrate"
   ]
  },
  {
   "cell_type": "code",
   "execution_count": null,
   "metadata": {
    "collapsed": false,
    "deletable": true,
    "editable": true
   },
   "outputs": [],
   "source": [
    "import scipy.integrate as spi"
   ]
  },
  {
   "cell_type": "code",
   "execution_count": null,
   "metadata": {
    "collapsed": true,
    "deletable": true,
    "editable": true
   },
   "outputs": [],
   "source": [
    "spi.trapz?"
   ]
  },
  {
   "cell_type": "markdown",
   "metadata": {
    "deletable": true,
    "editable": true
   },
   "source": [
    "Let's approximate $\\int_0^{\\pi} e^{\\sin(x)} dx$ using `trapz`."
   ]
  },
  {
   "cell_type": "code",
   "execution_count": null,
   "metadata": {
    "collapsed": true,
    "deletable": true,
    "editable": true
   },
   "outputs": [],
   "source": [
    "x = np.linspace(0,np.pi,100)\n",
    "y = np.exp (np.sin(x))"
   ]
  },
  {
   "cell_type": "code",
   "execution_count": null,
   "metadata": {
    "collapsed": false,
    "deletable": true,
    "editable": true
   },
   "outputs": [],
   "source": [
    "# plt.plot(x,y)\n",
    "spi.trapz(y,x)"
   ]
  },
  {
   "cell_type": "markdown",
   "metadata": {
    "deletable": true,
    "editable": true
   },
   "source": [
    "Let's try to verify the famous formula\n",
    "\n",
    "$$\n",
    "\\int_{-\\infty}^{\\infty} e^{-x^2} dx = \\sqrt\\pi\n",
    "$$"
   ]
  },
  {
   "cell_type": "code",
   "execution_count": null,
   "metadata": {
    "collapsed": false,
    "deletable": true,
    "editable": true
   },
   "outputs": [],
   "source": [
    "x=np.linspace(-1000,1000,2000000)\n",
    "y= np.exp(-x**2)\n",
    "spi.trapz(y,x)"
   ]
  },
  {
   "cell_type": "code",
   "execution_count": null,
   "metadata": {
    "collapsed": false,
    "deletable": true,
    "editable": true
   },
   "outputs": [],
   "source": [
    "np.pi**0.5"
   ]
  },
  {
   "cell_type": "code",
   "execution_count": null,
   "metadata": {
    "collapsed": true,
    "deletable": true,
    "editable": true
   },
   "outputs": [],
   "source": [
    "x=np.linspace(1,3,3)"
   ]
  },
  {
   "cell_type": "code",
   "execution_count": null,
   "metadata": {
    "collapsed": false
   },
   "outputs": [],
   "source": [
    "x"
   ]
  },
  {
   "cell_type": "code",
   "execution_count": null,
   "metadata": {
    "collapsed": true
   },
   "outputs": [],
   "source": []
  }
 ],
 "metadata": {
  "kernelspec": {
   "display_name": "Python 3",
   "language": "python",
   "name": "python3"
  },
  "language_info": {
   "codemirror_mode": {
    "name": "ipython",
    "version": 3
   },
   "file_extension": ".py",
   "mimetype": "text/x-python",
   "name": "python",
   "nbconvert_exporter": "python",
   "pygments_lexer": "ipython3",
   "version": "3.5.2"
  }
 },
 "nbformat": 4,
 "nbformat_minor": 2
}
