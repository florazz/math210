{
 "cells": [
  {
   "cell_type": "markdown",
   "metadata": {},
   "source": [
    "# Math 210\n",
    "\n",
    "## March 1, 2017\n",
    "\n",
    "* Approximating definite integrals with `scipy.integrate`\n",
    "    * trapz\n",
    "    * simps\n",
    "    * quad"
   ]
  },
  {
   "cell_type": "code",
   "execution_count": null,
   "metadata": {
    "collapsed": true
   },
   "outputs": [],
   "source": [
    "import numpy as np\n",
    "import matplotlib.pyplot as plt\n",
    "%matplotlib inline"
   ]
  },
  {
   "cell_type": "markdown",
   "metadata": {},
   "source": [
    "## Approximating definite integrals with `scipy.integrate`\n",
    "\n",
    "### Example\n",
    "\n",
    "Let's compute the inegral\n",
    "\n",
    "$$\n",
    "\\int_0^1 \\left( \\frac{x^{n-1}}{1-x^{1/p}}-\\frac{px^{np-1}}{1-x} \\right) dx = p \\ln p. p>0\n",
    "$$\n",
    "\n",
    "Notice that the integral is not defined at $x=1$."
   ]
  },
  {
   "cell_type": "code",
   "execution_count": null,
   "metadata": {
    "collapsed": true
   },
   "outputs": [],
   "source": [
    "import scipy.integrate as spi"
   ]
  },
  {
   "cell_type": "code",
   "execution_count": null,
   "metadata": {
    "collapsed": false
   },
   "outputs": [],
   "source": [
    "n=2\n",
    "p=3\n",
    "N=100\n",
    "x=np.linspace(0,0.9999999,N)\n",
    "y=x**(n-1)/(1-x**(1/p)) - p*x**(n*p - 1)/(1-x)\n",
    "# plt.plot(x,y), plt.xlim([0,1]);\n",
    "spi.trapz(y,x)"
   ]
  },
  {
   "cell_type": "code",
   "execution_count": null,
   "metadata": {
    "collapsed": false
   },
   "outputs": [],
   "source": [
    "p*np.log(p)"
   ]
  },
  {
   "cell_type": "markdown",
   "metadata": {},
   "source": [
    "### Example\n",
    "\n",
    "Let's compute the integral (3.361.2 p.344) using `simps`\n",
    "\n",
    "$$\n",
    "\\int_0^{\\infty} \\frac{e^{-qx}}{\\sqrt x}dx = \\sqrt{\\frac{\\pi}{q}}, q>0\n",
    "$$\n",
    "\n",
    "Notice that the integral is infinite and is not defined at $x=0$."
   ]
  },
  {
   "cell_type": "code",
   "execution_count": null,
   "metadata": {
    "collapsed": false
   },
   "outputs": [],
   "source": [
    "a=0.000001\n",
    "b=100\n",
    "N=10000\n",
    "q=10\n",
    "x=np.linspace(a,b,N)\n",
    "y=np.exp(-q*x)/np.sqrt(x)\n",
    "# plt.plot(x,y)\n",
    "spi.simps(y,x)"
   ]
  },
  {
   "cell_type": "code",
   "execution_count": null,
   "metadata": {
    "collapsed": false
   },
   "outputs": [],
   "source": [
    "np.sqrt(np.pi/q)"
   ]
  },
  {
   "cell_type": "markdown",
   "metadata": {},
   "source": [
    "Something's weird... Let's try quad!"
   ]
  },
  {
   "cell_type": "code",
   "execution_count": null,
   "metadata": {
    "collapsed": true
   },
   "outputs": [],
   "source": [
    "def f(x):\n",
    "    return np.exp(-q*x)/np.sqrt(x)"
   ]
  },
  {
   "cell_type": "code",
   "execution_count": null,
   "metadata": {
    "collapsed": true
   },
   "outputs": [],
   "source": [
    "I, error = spi.quad(f,0,np.inf)"
   ]
  },
  {
   "cell_type": "code",
   "execution_count": null,
   "metadata": {
    "collapsed": false
   },
   "outputs": [],
   "source": [
    "I"
   ]
  },
  {
   "cell_type": "code",
   "execution_count": null,
   "metadata": {
    "collapsed": true
   },
   "outputs": [],
   "source": []
  }
 ],
 "metadata": {
  "kernelspec": {
   "display_name": "Python 3",
   "language": "python",
   "name": "python3"
  },
  "language_info": {
   "codemirror_mode": {
    "name": "ipython",
    "version": 3
   },
   "file_extension": ".py",
   "mimetype": "text/x-python",
   "name": "python",
   "nbconvert_exporter": "python",
   "pygments_lexer": "ipython3",
   "version": "3.5.2"
  }
 },
 "nbformat": 4,
 "nbformat_minor": 2
}
