{
 "cells": [
  {
   "cell_type": "markdown",
   "metadata": {
    "deletable": true,
    "editable": true
   },
   "source": [
    "# Math 210\n",
    "\n",
    "## Feb 6, 2017\n",
    "\n",
    "1. Exploring `pyplot` commands\n",
    "2. Different kinds of plots\n",
    "3. Subplot\n",
    "4. Exercises"
   ]
  },
  {
   "cell_type": "code",
   "execution_count": null,
   "metadata": {
    "collapsed": false,
    "deletable": true,
    "editable": true
   },
   "outputs": [],
   "source": [
    "import numpy as np\n",
    "import matplotlib.pyplot as plt\n",
    "%matplotlib inline"
   ]
  },
  {
   "cell_type": "markdown",
   "metadata": {
    "deletable": true,
    "editable": true
   },
   "source": [
    "## 1. Exploring `pyplot` commands\n",
    "\n",
    "We use matplotlib to generate plots and we use the `pyplot` library of commands to customize our figures. There are many `pyplot` commands such as:\n",
    "\n",
    "* `xlim` and `ylim`\n",
    "* `grid`\n",
    "* `title`\n",
    "* `xlabel` and `ylabel`\n",
    "\n",
    "Let's do some examples:\n",
    "Let's plot $y=\\sin(x)+\\sin(4x)$ for $x\\in [0,2\\pi]$"
   ]
  },
  {
   "cell_type": "code",
   "execution_count": null,
   "metadata": {
    "collapsed": false,
    "deletable": true,
    "editable": true
   },
   "outputs": [],
   "source": [
    "x=np.linspace(0,2*np.pi,1000)\n",
    "y=np.sin(x)+np.sin(4*x)\n",
    "plt.plot(x,y,'r-.',linewidth=2)\n",
    "plt.xlim([0,2*np.pi]),plt.ylim([-3,3]),plt.grid('on',linestyle='-.')\n",
    "plt.title('Sum of sine waves'),plt.xlabel('Time(s)'),plt.ylabel('Amplitute(mm)');"
   ]
  },
  {
   "cell_type": "markdown",
   "metadata": {
    "deletable": true,
    "editable": true
   },
   "source": [
    "There's also a special command called `show`. We use this when we want to render the current figure. Jupyter notebook calls this for the current figure when  it reaches the end of a cell. So we'll use this when we want to render several figures from within the same cell."
   ]
  },
  {
   "cell_type": "code",
   "execution_count": null,
   "metadata": {
    "collapsed": false,
    "deletable": true,
    "editable": true
   },
   "outputs": [],
   "source": [
    "x=np.linspace(0,2*np.pi,1000)\n",
    "y1=np.sin(x)+np.sin(4*x)\n",
    "plt.plot(x,y1)\n",
    "plt.show()\n",
    "\n",
    "y2=np.sin(x)+np.sin(4*x)+np.sin(4*x)\n",
    "plt.plot(x,y2,'r')\n",
    "plt.show()"
   ]
  },
  {
   "cell_type": "markdown",
   "metadata": {
    "deletable": true,
    "editable": true
   },
   "source": [
    "We can also generate a legend for a figure with several lines. For example, let's plot $y\\sin(x)$ and $y=\\cos(x)$ in the same figure with a legend."
   ]
  },
  {
   "cell_type": "code",
   "execution_count": null,
   "metadata": {
    "collapsed": false,
    "deletable": true,
    "editable": true
   },
   "outputs": [],
   "source": [
    "t=np.linspace(0,4*np.pi,100)\n",
    "y1=np.sin(t)\n",
    "y2=np.cos(t)\n",
    "plt.plot(t,y1),plt.plot(t,y2),plt.xlim([0,4*np.pi]),plt.ylim([-2,2])\n",
    "plt.legend(['y=sin(t)','y=cos(t)']);"
   ]
  },
  {
   "cell_type": "markdown",
   "metadata": {
    "deletable": true,
    "editable": true
   },
   "source": [
    "## 2. Subplot\n",
    "\n",
    "The command `subplot` takes at least 3 inputs $n$, $m$ and $i$ and creates a figure with an $n$ by $m$ grid of subplots and then sets the $i$th subplot (counting across the rows) as tje current plot (ie.current axes object)."
   ]
  },
  {
   "cell_type": "code",
   "execution_count": null,
   "metadata": {
    "collapsed": false,
    "deletable": true,
    "editable": true
   },
   "outputs": [],
   "source": [
    "plt.subplot(2,2,1)\n",
    "x=np.linspace(-5,5,1000)\n",
    "y=np.arctan(x)/(1+x**2)\n",
    "plt.plot(x,y)\n",
    "\n",
    "plt.subplot(2,2,2)\n",
    "x=np.linspace(-5,5,1000)\n",
    "y=np.arctan(x)/(1+x**2)\n",
    "plt.plot(x,y)\n",
    "\n",
    "plt.subplot(2,2,3)\n",
    "x=np.linspace(-5,5,1000)\n",
    "y=np.arctan(x)/(1+x**2)\n",
    "plt.plot(x,y)\n",
    "\n",
    "plt.subplot(2,2,4)\n",
    "x=np.linspace(-5,5,1000)\n",
    "y=np.arctan(x)/(1+x**2)\n",
    "plt.plot(x,y)"
   ]
  },
  {
   "cell_type": "code",
   "execution_count": null,
   "metadata": {
    "collapsed": false,
    "deletable": true,
    "editable": true
   },
   "outputs": [],
   "source": [
    "for k in range(1,5):\n",
    "    plt.subplot(2,2,k)\n",
    "    x=np.linspace(-5,5,1000)\n",
    "    y=x**(k-1)*np.arctan(x)/(1+x**2)\n",
    "    plt.plot(x,y),plt.xlim([-5,5]),plt.title('k='+str(k)), plt.tight_layout()"
   ]
  },
  {
   "cell_type": "code",
   "execution_count": null,
   "metadata": {
    "collapsed": false,
    "deletable": true,
    "editable": true
   },
   "outputs": [],
   "source": [
    "'hello'+' yes'"
   ]
  },
  {
   "cell_type": "markdown",
   "metadata": {
    "deletable": true,
    "editable": true
   },
   "source": [
    "## 3. Different kinds of plots\n",
    "\n",
    "So far we've just been creating line plots. Let's create some other kinds."
   ]
  },
  {
   "cell_type": "markdown",
   "metadata": {
    "deletable": true,
    "editable": true
   },
   "source": [
    "### Scatter plots"
   ]
  },
  {
   "cell_type": "code",
   "execution_count": null,
   "metadata": {
    "collapsed": false,
    "deletable": true,
    "editable": true
   },
   "outputs": [],
   "source": [
    "N=1000\n",
    "x=np.random.randn(N)\n",
    "y=np.random.rand(N)\n",
    "plt.scatter(x,y)"
   ]
  },
  {
   "cell_type": "markdown",
   "metadata": {
    "deletable": true,
    "editable": true
   },
   "source": [
    "### Bar plots"
   ]
  },
  {
   "cell_type": "code",
   "execution_count": null,
   "metadata": {
    "collapsed": false,
    "deletable": true,
    "editable": true
   },
   "outputs": [],
   "source": [
    "x=np.arange(0,10);\n",
    "y=np.random.rand(10)\n",
    "plt.bar(x,y)"
   ]
  },
  {
   "cell_type": "code",
   "execution_count": null,
   "metadata": {
    "collapsed": true,
    "deletable": true,
    "editable": true
   },
   "outputs": [],
   "source": []
  }
 ],
 "metadata": {
  "kernelspec": {
   "display_name": "Python 3",
   "language": "python",
   "name": "python3"
  },
  "language_info": {
   "codemirror_mode": {
    "name": "ipython",
    "version": 3
   },
   "file_extension": ".py",
   "mimetype": "text/x-python",
   "name": "python",
   "nbconvert_exporter": "python",
   "pygments_lexer": "ipython3",
   "version": "3.5.2"
  }
 },
 "nbformat": 4,
 "nbformat_minor": 1
}
