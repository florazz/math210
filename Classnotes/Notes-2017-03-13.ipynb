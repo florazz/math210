{
 "cells": [
  {
   "cell_type": "markdown",
   "metadata": {
    "deletable": true,
    "editable": true
   },
   "source": [
    "# Math 210\n",
    "\n",
    "## March 13, 2017\n",
    "\n",
    "* Applications of linear algebra\n",
    "  * Least Squares regression\n",
    "  * Principal component analysis"
   ]
  },
  {
   "cell_type": "code",
   "execution_count": null,
   "metadata": {
    "collapsed": true,
    "deletable": true,
    "editable": true
   },
   "outputs": [],
   "source": [
    "import numpy as np\n",
    "import scipy.linalg as la\n",
    "import matplotlib.pyplot as plt\n",
    "from numpy.linalg import matrix_power as mpow\n",
    "%matplotlib inline"
   ]
  },
  {
   "cell_type": "markdown",
   "metadata": {
    "deletable": true,
    "editable": true
   },
   "source": [
    "## Least Squares regression\n",
    "\n",
    "Given a collection of points $(x_0,y_0), (x_1, y_1), \\cdots, (x_N,y_N)$, we would like to find coefficients $a$ and $b$ such that the line $y=a+bx$ passes through the points in an optimal way. This means that we want to minimize the sum of the squared errors:\n",
    "\n",
    "$$\n",
    "\\sum_{i=0}^N (y_i - (a+bx_i))^2\n",
    "$$"
   ]
  },
  {
   "cell_type": "markdown",
   "metadata": {
    "deletable": true,
    "editable": true
   },
   "source": [
    "If we form matrices $X$ and $A$ given by\n",
    "\n",
    "$$\n",
    "X= \n",
    "\\begin{bmatrix}\n",
    "1 & x_0 \\\\\n",
    "1 & x_1 \\\\\n",
    "\\vdots & \\vdots \\\\\n",
    "1 & x_N\n",
    "\\end{bmatrix}\n",
    "A = \n",
    "\\begin{bmatrix}\n",
    "a \\\\\n",
    "b\n",
    "\\end{bmatrix}\n",
    "Y =\n",
    "\\begin{bmatrix}\n",
    "y_0 \\\\\n",
    "y_1 \\\\\n",
    "\\vdots \\\\\n",
    "y_N\n",
    "\\end{bmatrix}\n",
    "$$\n",
    "\n",
    "Then the coefficents $a$ and $b$ which minimize the sum of squared errors $SSE$, is the solutions of \n",
    "\n",
    "$$\n",
    "(X^T X)A = (X^T)Y\n",
    "$$"
   ]
  },
  {
   "cell_type": "markdown",
   "metadata": {
    "deletable": true,
    "editable": true
   },
   "source": [
    "Let's do an example with some fake data:"
   ]
  },
  {
   "cell_type": "code",
   "execution_count": null,
   "metadata": {
    "collapsed": true,
    "deletable": true,
    "editable": true
   },
   "outputs": [],
   "source": [
    "a = 2\n",
    "b = 3\n",
    "N = 100\n",
    "x = np.random.rand(100)\n",
    "noise = 0.1*np.random.randn(100)\n",
    "y = a + b*x + noise"
   ]
  },
  {
   "cell_type": "code",
   "execution_count": null,
   "metadata": {
    "collapsed": false,
    "deletable": true,
    "editable": true
   },
   "outputs": [],
   "source": [
    "plt.scatter(x,y)"
   ]
  },
  {
   "cell_type": "markdown",
   "metadata": {
    "deletable": true,
    "editable": true
   },
   "source": [
    "Let's use linear regression to retrieve the coefficients $a$ and $b$.\n",
    "\n",
    "To build the matrix $X$, we can use the funciton `numpy.hstack`"
   ]
  },
  {
   "cell_type": "code",
   "execution_count": null,
   "metadata": {
    "collapsed": false,
    "deletable": true,
    "editable": true
   },
   "outputs": [],
   "source": [
    "X = np.hstack((np.ones(N).reshape(N,1),x.reshape(N,1)))"
   ]
  },
  {
   "cell_type": "code",
   "execution_count": null,
   "metadata": {
    "collapsed": false,
    "deletable": true,
    "editable": true
   },
   "outputs": [],
   "source": [
    "X.shape"
   ]
  },
  {
   "cell_type": "code",
   "execution_count": null,
   "metadata": {
    "collapsed": false,
    "deletable": true,
    "editable": true
   },
   "outputs": [],
   "source": [
    "X[:5,:]"
   ]
  },
  {
   "cell_type": "code",
   "execution_count": null,
   "metadata": {
    "collapsed": true
   },
   "outputs": [],
   "source": [
    "Y = y.reshape(N,1)"
   ]
  },
  {
   "cell_type": "markdown",
   "metadata": {},
   "source": [
    "Use `scipy.linalg.solve` to solve $(X^T X)A = (X^T)Y$ fo r$A$."
   ]
  },
  {
   "cell_type": "code",
   "execution_count": null,
   "metadata": {
    "collapsed": false
   },
   "outputs": [],
   "source": [
    "A = la.solve(X.T @ X, X.T @ Y)"
   ]
  },
  {
   "cell_type": "code",
   "execution_count": null,
   "metadata": {
    "collapsed": false
   },
   "outputs": [],
   "source": [
    "A"
   ]
  },
  {
   "cell_type": "markdown",
   "metadata": {},
   "source": [
    "Let's plot the random data points with the linear regression we just computed."
   ]
  },
  {
   "cell_type": "code",
   "execution_count": null,
   "metadata": {
    "collapsed": false
   },
   "outputs": [],
   "source": [
    "u = np.linspace(0,1,10)\n",
    "v = A[0,0] + A [1,0]*u\n",
    "plt.plot(u,v,'r')\n",
    "plt.scatter(x,y)"
   ]
  },
  {
   "cell_type": "markdown",
   "metadata": {},
   "source": [
    "## Liner regression for quadratic  models\n",
    "\n",
    "The same idea works for fitting a quadratic model $y=a+bx+cx^2$ to a set of data points $(x_0,y_0), \\cdots, (x_N,y_N)$. We form the matrices as before but with \n",
    "\n",
    "If we form matrices given $X$ and $A$ given by\n",
    "\n",
    "$$\n",
    "X= \n",
    "\\begin{bmatrix}\n",
    "1 & x_0 & x_0^2 \\\\\n",
    "1 & x_1 & x_1^2 \\\\\n",
    "\\vdots & \\vdots \\\\\n",
    "1 & x_N & x_N^2 \n",
    "\\end{bmatrix}\n",
    "A = \n",
    "\\begin{bmatrix}\n",
    "a \\\\\n",
    "b \\\\\n",
    "c\n",
    "\\end{bmatrix}\n",
    "Y =\n",
    "\\begin{bmatrix}\n",
    "y_0 \\\\\n",
    "y_1 \\\\\n",
    "\\vdots \\\\\n",
    "y_N\n",
    "\\end{bmatrix}\n",
    "$$\n",
    "\n",
    "Then the coefficients $a$ and $b$ which minimize the sum of squared errors $SSE$, is the solutions of \n",
    "\n",
    "$$\n",
    "(X^T X)A = (X^T)Y\n",
    "$$"
   ]
  },
  {
   "cell_type": "markdown",
   "metadata": {},
   "source": [
    "Let's do an example with some fake data using a quadratic model $y= a+ bx+ cx^2 + \\epsilon$ and use the linear regression to retrieve the coe $a$,$b$ and $c$."
   ]
  },
  {
   "cell_type": "code",
   "execution_count": null,
   "metadata": {
    "collapsed": false
   },
   "outputs": [],
   "source": [
    "a = 3\n",
    "n = 5\n",
    "c = 8\n",
    "N = 1000\n",
    "x = 2*np.random.rand(N)\n",
    "noise - np.random.randn(N)\n",
    "y = a + b*x + c*x**2 + np.eps noise\n",
    "plt.scatter(x,y,alpha=0.5,)iw=0"
   ]
  },
  {
   "cell_type": "code",
   "execution_count": null,
   "metadata": {
    "collapsed": true
   },
   "outputs": [],
   "source": [
    "X = np.hstack((np.ones(N).reshape(N,1),x.reshape(N,1),(x**2).reshape(N,1)))"
   ]
  },
  {
   "cell_type": "code",
   "execution_count": null,
   "metadata": {
    "collapsed": true
   },
   "outputs": [],
   "source": []
  }
 ],
 "metadata": {
  "kernelspec": {
   "display_name": "Python 3",
   "language": "python",
   "name": "python3"
  },
  "language_info": {
   "codemirror_mode": {
    "name": "ipython",
    "version": 3
   },
   "file_extension": ".py",
   "mimetype": "text/x-python",
   "name": "python",
   "nbconvert_exporter": "python",
   "pygments_lexer": "ipython3",
   "version": "3.5.2"
  }
 },
 "nbformat": 4,
 "nbformat_minor": 2
}
