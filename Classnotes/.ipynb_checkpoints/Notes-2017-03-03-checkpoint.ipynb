{
 "cells": [
  {
   "cell_type": "markdown",
   "metadata": {
    "deletable": true,
    "editable": true
   },
   "source": [
    "# Math 210\n",
    "\n",
    "## March 3, 2017\n",
    "\n",
    "1. More definite integrals using QUADPACK\n",
    "2. Numerical differentiation\n",
    "    * Central difference formula\n",
    "    * `scipy.misc.derivative`"
   ]
  },
  {
   "cell_type": "code",
   "execution_count": null,
   "metadata": {
    "collapsed": true,
    "deletable": true,
    "editable": true
   },
   "outputs": [],
   "source": [
    "import numpy as np\n",
    "import matplotlib.pyplot as plt\n",
    "%matplotlib inline"
   ]
  },
  {
   "cell_type": "markdown",
   "metadata": {
    "deletable": true,
    "editable": true
   },
   "source": [
    "## 1. More definite integrals using QUADPACK\n",
    "\n",
    "### Example: Gamma function\n",
    "\n",
    "The gamma function $\\Gamma(x)$ is extension of the factorial $n!$ in the sense $\\Gamma(n) = (n-1)!$. It's defined by an infinite integral:\n",
    "\n",
    "$$\n",
    "\\Gamma(x) = \\int_0^{\\infty} t^{x-1} e^{-t} dt\n",
    "$$\n",
    "\n",
    "Let's use `scipy.integrate.quad` to compute some values of $\\Gamma(x)$."
   ]
  },
  {
   "cell_type": "code",
   "execution_count": null,
   "metadata": {
    "collapsed": true,
    "deletable": true,
    "editable": true
   },
   "outputs": [],
   "source": [
    "import scipy.integrate as spi"
   ]
  },
  {
   "cell_type": "code",
   "execution_count": null,
   "metadata": {
    "collapsed": false,
    "deletable": true,
    "editable": true
   },
   "outputs": [],
   "source": [
    "x=5\n",
    "def f(t):\n",
    "    return t**(x-1)*np.exp(-t)\n",
    "\n",
    "# Gamma func for x=5\n",
    "I, abserr = spi.quad(f,0,np.inf)\n",
    "print(I)\n",
    "print(abserr)"
   ]
  },
  {
   "cell_type": "code",
   "execution_count": null,
   "metadata": {
    "collapsed": true,
    "deletable": true,
    "editable": true
   },
   "outputs": [],
   "source": [
    "from scipy.misc import factorial"
   ]
  },
  {
   "cell_type": "code",
   "execution_count": null,
   "metadata": {
    "collapsed": false,
    "deletable": true,
    "editable": true
   },
   "outputs": [],
   "source": [
    "factorial(5)"
   ]
  },
  {
   "cell_type": "code",
   "execution_count": null,
   "metadata": {
    "collapsed": true,
    "deletable": true,
    "editable": true
   },
   "outputs": [],
   "source": [
    "from scipy.special import gamma as G"
   ]
  },
  {
   "cell_type": "code",
   "execution_count": null,
   "metadata": {
    "collapsed": false,
    "deletable": true,
    "editable": true
   },
   "outputs": [],
   "source": [
    "x=np.linspace(0.002,7,100)\n",
    "y=G(x)\n",
    "\n",
    "n = np.arange(0,8)\n",
    "factorials = factorial(n-1)\n",
    "plt.plot(x,y,n,factorials,'r.');"
   ]
  },
  {
   "cell_type": "markdown",
   "metadata": {
    "deletable": true,
    "editable": true
   },
   "source": [
    "### Example \n",
    "\n",
    "Let's verify the integral formula\n",
    "\n",
    "(refer to classnotes)"
   ]
  },
  {
   "cell_type": "code",
   "execution_count": null,
   "metadata": {
    "collapsed": false,
    "deletable": true,
    "editable": true
   },
   "outputs": [],
   "source": [
    "n=2\n",
    "def f(x):\n",
    "    return x**(3*n)/(1-x**3)**(1/3)"
   ]
  },
  {
   "cell_type": "code",
   "execution_count": null,
   "metadata": {
    "collapsed": true,
    "deletable": true,
    "editable": true
   },
   "outputs": [],
   "source": [
    "I,abserr = spi.quad(f,0,1)"
   ]
  },
  {
   "cell_type": "code",
   "execution_count": null,
   "metadata": {
    "collapsed": false,
    "deletable": true,
    "editable": true
   },
   "outputs": [],
   "source": [
    "I"
   ]
  },
  {
   "cell_type": "code",
   "execution_count": null,
   "metadata": {
    "collapsed": true,
    "deletable": true,
    "editable": true
   },
   "outputs": [],
   "source": [
    "true_I = 2*np.pi/(3*np.sqrt(3))* G(n+1/3)/(G(1/3)*G(n+1))"
   ]
  },
  {
   "cell_type": "code",
   "execution_count": null,
   "metadata": {
    "collapsed": false,
    "deletable": true,
    "editable": true
   },
   "outputs": [],
   "source": [
    "true_I"
   ]
  },
  {
   "cell_type": "markdown",
   "metadata": {
    "deletable": true,
    "editable": true
   },
   "source": [
    "Let's verify that the approximation `I`  is within `abserr` of the exact value of the integral (ie. the right side of the equation)."
   ]
  },
  {
   "cell_type": "code",
   "execution_count": null,
   "metadata": {
    "collapsed": false,
    "deletable": true,
    "editable": true
   },
   "outputs": [],
   "source": [
    "np.abs(I - true_I) < abserr"
   ]
  },
  {
   "cell_type": "markdown",
   "metadata": {
    "deletable": true,
    "editable": true
   },
   "source": [
    "## 2. Numerical Differentiation\n",
    "\n",
    "Given a func $f(x)$ we can approximate the value of the derivative $f'(a)$ at $x=a$ by the formula\n",
    "\n",
    "$$ \n",
    "f'(a) \\approx \\frac{f(a+h) -f(a)}{h}\n",
    "$$\n",
    "\n",
    "for some (small) choice of $h$. But we can approximate the value $f'(a)$ at $x=a$ by the formula\n",
    "\n",
    "$$\n",
    "f'(a) \\approx \\frac{f(a) -f(a-h)}{h}\n",
    "$$\n",
    "\n",
    "for some (small) choice of $h$. But it's usually best to take the average of these\n",
    "\n",
    "$$\n",
    "f'(a) \\approx \\frac{1}{2} \\left( \\frac{f(a+h) -f(a)}{h} + \\frac{f(a) -f(a-h)}{h} \\right) = \\frac{f(a+h)-f(a-h)}{2h}\n",
    "$$\n",
    "\n",
    "Let's write func called `D` which returns the approximation of $f'(a)$ using the central difference formula."
   ]
  },
  {
   "cell_type": "code",
   "execution_count": null,
   "metadata": {
    "collapsed": true,
    "deletable": true,
    "editable": true
   },
   "outputs": [],
   "source": [
    "def D(f,a,h=0.01):\n",
    "    \"\"\"Compute the derivative of f(x) at x=a using the central difference formula with step h.\"\"\"\n",
    "    return (f(a+h)-f(a-h))/(2*h)"
   ]
  },
  {
   "cell_type": "code",
   "execution_count": null,
   "metadata": {
    "collapsed": true,
    "deletable": true,
    "editable": true
   },
   "outputs": [],
   "source": [
    "def f(x):\n",
    "    return x**3"
   ]
  },
  {
   "cell_type": "code",
   "execution_count": null,
   "metadata": {
    "collapsed": false,
    "deletable": true,
    "editable": true
   },
   "outputs": [],
   "source": [
    "D(f,2,h=0.01)"
   ]
  },
  {
   "cell_type": "code",
   "execution_count": null,
   "metadata": {
    "collapsed": false,
    "deletable": true,
    "editable": true
   },
   "outputs": [],
   "source": [
    "x= np.linspace(0,2*np.pi,100)\n",
    "y= D(np.sin,x,h=0.01)\n",
    "plt.plot(x,y)"
   ]
  },
  {
   "cell_type": "markdown",
   "metadata": {
    "deletable": true,
    "editable": true
   },
   "source": [
    "There's a Scipy function which does the exact same thing as our `D` and it's called `scipy.misc.derivative`."
   ]
  },
  {
   "cell_type": "code",
   "execution_count": null,
   "metadata": {
    "collapsed": true,
    "deletable": true,
    "editable": true
   },
   "outputs": [],
   "source": [
    "from scipy.misc import derivative"
   ]
  },
  {
   "cell_type": "code",
   "execution_count": null,
   "metadata": {
    "collapsed": false,
    "deletable": true,
    "editable": true
   },
   "outputs": [],
   "source": [
    "x = np.arange(0,5)\n",
    "D(np.exp,x,h=0.1)"
   ]
  },
  {
   "cell_type": "code",
   "execution_count": null,
   "metadata": {
    "collapsed": false,
    "deletable": true,
    "editable": true
   },
   "outputs": [],
   "source": [
    "derivative(np.exp,x,dx=0.1)"
   ]
  },
  {
   "cell_type": "code",
   "execution_count": null,
   "metadata": {
    "collapsed": true,
    "deletable": true,
    "editable": true
   },
   "outputs": [],
   "source": [
    "derivative?"
   ]
  },
  {
   "cell_type": "code",
   "execution_count": null,
   "metadata": {
    "collapsed": true,
    "deletable": true,
    "editable": true
   },
   "outputs": [],
   "source": []
  }
 ],
 "metadata": {
  "kernelspec": {
   "display_name": "Python 3",
   "language": "python",
   "name": "python3"
  },
  "language_info": {
   "codemirror_mode": {
    "name": "ipython",
    "version": 3
   },
   "file_extension": ".py",
   "mimetype": "text/x-python",
   "name": "python",
   "nbconvert_exporter": "python",
   "pygments_lexer": "ipython3",
   "version": "3.5.2"
  }
 },
 "nbformat": 4,
 "nbformat_minor": 2
}
