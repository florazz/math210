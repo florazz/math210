{
 "cells": [
  {
   "cell_type": "markdown",
   "metadata": {},
   "source": [
    "# Math 210\n",
    "\n",
    "## Jan 25, 2017\n",
    "\n",
    "1. Using a for loop to calculate a product(or sum)\n",
    "  * Ex. Factorial\n",
    "  * Ex. N choose K\n",
    "  * Ex. Sum a list (without using built in function)\n",
    "2. Using a for loop to construct a sequence\n",
    "  * Ex. Sums of squares\n",
    "  * Ex. List of divisors\n",
    "  * Ex. Divisor function\n",
    "3. Using a while loop to construct a sequence\n",
    "  * Ex. Lucky numbers\n",
    "4. Exercises"
   ]
  },
  {
   "cell_type": "markdown",
   "metadata": {},
   "source": [
    "## 1. Using a for loop to calculate a product (or sum)\n",
    "\n",
    "### Ex. Facorial\n",
    "\n",
    "Write a function called `factorial` which takes a positive integer $N$ and return the factorial $N!$."
   ]
  },
  {
   "cell_type": "code",
   "execution_count": 1,
   "metadata": {
    "collapsed": true
   },
   "outputs": [],
   "source": [
    "def factorial(N):\n",
    "    \"\"\"Compute N!=N(N-1)...(2)(1)\"\"\"\n",
    "    product = 1\n",
    "    for n in range(2, N+1):\n",
    "        product = product * n\n",
    "        # Update the output variable\n",
    "    return product\n",
    "        "
   ]
  },
  {
   "cell_type": "code",
   "execution_count": 2,
   "metadata": {
    "collapsed": false
   },
   "outputs": [
    {
     "data": {
      "text/plain": [
       "2"
      ]
     },
     "execution_count": 2,
     "metadata": {},
     "output_type": "execute_result"
    }
   ],
   "source": [
    "factorial(2)"
   ]
  },
  {
   "cell_type": "markdown",
   "metadata": {},
   "source": [
    "### Example: N choose K\n",
    "\n",
    "Write a function called `n_choose_k\" which takes positive integers $N$ and $K$ and returns $N \\choose K$ = $\\frac{N!}{(N-K)!K!}$."
   ]
  },
  {
   "cell_type": "code",
   "execution_count": 3,
   "metadata": {
    "collapsed": true
   },
   "outputs": [],
   "source": [
    "def n_choose_k(N,K):\n",
    "    \"\"\"Compute N choose K.\"\"\"\n",
    "    return factorial(N)/(factorial(N-K)*factorial(K))"
   ]
  },
  {
   "cell_type": "code",
   "execution_count": 4,
   "metadata": {
    "collapsed": false
   },
   "outputs": [
    {
     "data": {
      "text/plain": [
       "5.0"
      ]
     },
     "execution_count": 4,
     "metadata": {},
     "output_type": "execute_result"
    }
   ],
   "source": [
    "n_choose_k(5,1)"
   ]
  },
  {
   "cell_type": "code",
   "execution_count": 5,
   "metadata": {
    "collapsed": false
   },
   "outputs": [
    {
     "data": {
      "text/plain": [
       "120.0"
      ]
     },
     "execution_count": 5,
     "metadata": {},
     "output_type": "execute_result"
    }
   ],
   "source": [
    "n_choose_k(10,3)"
   ]
  },
  {
   "cell_type": "markdown",
   "metadata": {},
   "source": [
    "### Ex.: Sum of squares\n",
    "\n",
    "Let's write a func called `sum_of_squares` which takes a positive integer $N$ and returns the sum of squares $1^2+2^2+\\cdots+N^2$ (using a for loop and not a list comprehension)."
   ]
  },
  {
   "cell_type": "code",
   "execution_count": 12,
   "metadata": {
    "collapsed": true
   },
   "outputs": [],
   "source": [
    "def sum_of_squares(N):\n",
    "    \"\"\"Compute he sum of squares 1**2+2**2+...+N**2$.\"\"\"\n",
    "    the_sum = 0\n",
    "    for n in range(1,N+1):\n",
    "        the_sum = the_sum +n**2\n",
    "    return the_sum"
   ]
  },
  {
   "cell_type": "code",
   "execution_count": 13,
   "metadata": {
    "collapsed": false
   },
   "outputs": [
    {
     "data": {
      "text/plain": [
       "5"
      ]
     },
     "execution_count": 13,
     "metadata": {},
     "output_type": "execute_result"
    }
   ],
   "source": [
    "sum_of_squares(2)"
   ]
  },
  {
   "cell_type": "code",
   "execution_count": 14,
   "metadata": {
    "collapsed": true
   },
   "outputs": [],
   "source": [
    "def sum_of_squares2(N):\n",
    "    return sum ([d**2 for d in range(1,N+1)])"
   ]
  },
  {
   "cell_type": "code",
   "execution_count": 15,
   "metadata": {
    "collapsed": false
   },
   "outputs": [
    {
     "data": {
      "text/plain": [
       "5"
      ]
     },
     "execution_count": 15,
     "metadata": {},
     "output_type": "execute_result"
    }
   ],
   "source": [
    "sum_of_squares2(2)"
   ]
  },
  {
   "cell_type": "code",
   "execution_count": 16,
   "metadata": {
    "collapsed": false
   },
   "outputs": [
    {
     "data": {
      "text/plain": [
       "30"
      ]
     },
     "execution_count": 16,
     "metadata": {},
     "output_type": "execute_result"
    }
   ],
   "source": [
    "sum_of_squares2(4)"
   ]
  },
  {
   "cell_type": "code",
   "execution_count": 17,
   "metadata": {
    "collapsed": false
   },
   "outputs": [
    {
     "name": "stdout",
     "output_type": "stream",
     "text": [
      "1 loop, best of 3: 385 ms per loop\n"
     ]
    }
   ],
   "source": [
    "%%timeit\n",
    "sum_of_squares2(1000000)"
   ]
  },
  {
   "cell_type": "markdown",
   "metadata": {},
   "source": [
    "## 2. Using a loop to construct a sequence\n",
    "\n",
    "### Ex: List of divisors\n",
    "\n",
    "Let's write a func called `divisors` which takes a positive integer $N$ and returns the list of positive integers which divide $N$."
   ]
  },
  {
   "cell_type": "code",
   "execution_count": 20,
   "metadata": {
    "collapsed": true
   },
   "outputs": [],
   "source": [
    "def divisors(N):\n",
    "    \"\"\"Return the list of divisors of N.\"\"\"\n",
    "    # Initialize the list of divisors\n",
    "    divisor_list = [1]\n",
    "    for d in range(2,N//2+1):\n",
    "        if N%d == 0:\n",
    "            divisor_list.append(d)\n",
    "    divisor_list.append(N)\n",
    "    return divisor_list\n",
    "            "
   ]
  },
  {
   "cell_type": "code",
   "execution_count": 21,
   "metadata": {
    "collapsed": false
   },
   "outputs": [
    {
     "data": {
      "text/plain": [
       "[1, 2, 5, 10]"
      ]
     },
     "execution_count": 21,
     "metadata": {},
     "output_type": "execute_result"
    }
   ],
   "source": [
    "divisors(10)"
   ]
  },
  {
   "cell_type": "code",
   "execution_count": 32,
   "metadata": {
    "collapsed": false
   },
   "outputs": [
    {
     "data": {
      "text/plain": [
       "[1, 2, 5, 10, 25, 50]"
      ]
     },
     "execution_count": 32,
     "metadata": {},
     "output_type": "execute_result"
    }
   ],
   "source": [
    "divisors(50)"
   ]
  },
  {
   "cell_type": "markdown",
   "metadata": {},
   "source": [
    "## 3. Nested for loops\n",
    "\n",
    "We can use several for loops at once to iterate over several variables. For example, let's write a func called `rep_as_squares` which takes on intefer $N$ and finds all representations of $N$ as a sum of squares $a^2+b^2=N$ for $1\\leq a\\leq b$. For example, if $N=5$ then $1^2+2^2=5$."
   ]
  },
  {
   "cell_type": "code",
   "execution_count": 26,
   "metadata": {
    "collapsed": true
   },
   "outputs": [],
   "source": [
    "def rep_as_squares(N):\n",
    "    \"\"\"Find all representations of N as a sum of squares a**2 + b**2 =N\"\"\"\n",
    "    reps = []\n",
    "    for a in range(1,N):\n",
    "        for b in range(a,N):\n",
    "            if a**2 + b**2 == N:\n",
    "                reps.append([a,b])\n",
    "    return reps"
   ]
  },
  {
   "cell_type": "code",
   "execution_count": 27,
   "metadata": {
    "collapsed": false
   },
   "outputs": [
    {
     "data": {
      "text/plain": [
       "[[1, 2]]"
      ]
     },
     "execution_count": 27,
     "metadata": {},
     "output_type": "execute_result"
    }
   ],
   "source": [
    "rep_as_squares(5)"
   ]
  },
  {
   "cell_type": "code",
   "execution_count": 28,
   "metadata": {
    "collapsed": false
   },
   "outputs": [
    {
     "data": {
      "text/plain": [
       "[[1, 7], [5, 5]]"
      ]
     },
     "execution_count": 28,
     "metadata": {},
     "output_type": "execute_result"
    }
   ],
   "source": [
    "rep_as_squares(50)"
   ]
  },
  {
   "cell_type": "code",
   "execution_count": 31,
   "metadata": {
    "collapsed": false
   },
   "outputs": [
    {
     "name": "stdout",
     "output_type": "stream",
     "text": [
      "[[2, 14], [10, 10]]\n",
      "[[3, 14], [6, 13]]\n",
      "[[5, 14], [10, 11]]\n",
      "[[5, 15], [9, 13]]\n",
      "[[2, 16], [8, 14]]\n",
      "[[3, 16], [11, 12]]\n",
      "[[1, 17], [11, 13]]\n",
      "[[4, 17], [7, 16]]\n",
      "[[1, 18], [6, 17], [10, 15]]\n",
      "[[7, 17], [13, 13]]\n",
      "[[4, 18], [12, 14]]\n",
      "[[2, 19], [13, 14]]\n",
      "[[3, 19], [9, 17]]\n",
      "[[4, 19], [11, 16]]\n"
     ]
    }
   ],
   "source": [
    "for N in range(200,400):\n",
    "    N_list= rep_as_squares(N)\n",
    "    if len(N_list)>1:\n",
    "        print(N_list)"
   ]
  },
  {
   "cell_type": "code",
   "execution_count": 1,
   "metadata": {
    "collapsed": true
   },
   "outputs": [],
   "source": [
    "a_list = [1]"
   ]
  },
  {
   "cell_type": "code",
   "execution_count": 2,
   "metadata": {
    "collapsed": false
   },
   "outputs": [
    {
     "data": {
      "text/plain": [
       "1"
      ]
     },
     "execution_count": 2,
     "metadata": {},
     "output_type": "execute_result"
    }
   ],
   "source": [
    "a_list[-1]"
   ]
  },
  {
   "cell_type": "code",
   "execution_count": null,
   "metadata": {
    "collapsed": true
   },
   "outputs": [],
   "source": []
  }
 ],
 "metadata": {
  "kernelspec": {
   "display_name": "Python 3",
   "language": "python",
   "name": "python3"
  },
  "language_info": {
   "codemirror_mode": {
    "name": "ipython",
    "version": 3
   },
   "file_extension": ".py",
   "mimetype": "text/x-python",
   "name": "python",
   "nbconvert_exporter": "python",
   "pygments_lexer": "ipython3",
   "version": "3.5.2"
  }
 },
 "nbformat": 4,
 "nbformat_minor": 1
}
