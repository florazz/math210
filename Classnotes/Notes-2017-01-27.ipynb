{
 "cells": [
  {
   "cell_type": "markdown",
   "metadata": {},
   "source": [
    "# Math 210\n",
    "\n",
    "## Jan 27, 2017\n",
    "\n",
    "1. Modules and packages\n",
    "2. An overview of scientific computing in Python\n",
    "3. Exercises"
   ]
  },
  {
   "cell_type": "markdown",
   "metadata": {},
   "source": [
    "## 1. Modules and Packages\n",
    "\n",
    "Notice that we have been using the standard Python Library consisting of the the builtin functions (like `sum`,`len`, `round`, etc) and builtin datatypes (like `int`, `float`, `list`, etc).\n",
    "But what if we want to do more like work with matrices and exponential functions and trigonometric functions? Python packages NumPy,SciPy, matplotlib, pandas and many more have been built for scientific computing and many other applications!"
   ]
  },
  {
   "cell_type": "markdown",
   "metadata": {},
   "source": [
    "What is a package or a module? A module is simply a collection of functions and other things saved to a .py file (just like a text file with Python codes). A package is a whole collection of modules.\n",
    "\n",
    "Let's gather all of number theory functions from last time!"
   ]
  },
  {
   "cell_type": "code",
   "execution_count": 1,
   "metadata": {
    "collapsed": true
   },
   "outputs": [],
   "source": [
    "def factorial(N):\n",
    "    \"\"\"Compute N!=N(N-1) ... (2)(1)\"\"\"\n",
    "    # Initialize the outpout variable to 1\n",
    "    product = 1\n",
    "    for n in range(2,N + 1):\n",
    "        # Update the output variable\n",
    "        product = product * n\n",
    "    return product"
   ]
  },
  {
   "cell_type": "code",
   "execution_count": 2,
   "metadata": {
    "collapsed": true
   },
   "outputs": [],
   "source": [
    "def n_choose_k(N,K):\n",
    "    \"\"\"Compute N choose K.\"\"\"\n",
    "    return factorial(N) // (factorial(N - K) * factorial(K))"
   ]
  },
  {
   "cell_type": "code",
   "execution_count": 3,
   "metadata": {
    "collapsed": true
   },
   "outputs": [],
   "source": [
    "def sum_of_squares(N):\n",
    "    \"\"\"Compute the sum of squares 1**2 + 2**2 + ... + N**2.\"\"\"\n",
    "    # Initialize the output variable\n",
    "    the_sum = 0\n",
    "    for n in range(1,N + 1):\n",
    "        the_sum = the_sum + n**2\n",
    "    return the_sum"
   ]
  },
  {
   "cell_type": "code",
   "execution_count": 4,
   "metadata": {
    "collapsed": true
   },
   "outputs": [],
   "source": [
    "def sum_of_squares2(N):\n",
    "    \"\"\"Compute the sum of squares 1**2 + 2**2 + ... + N**2.\"\"\"\n",
    "    return sum([d**2 for d in range(1,N + 1)])"
   ]
  },
  {
   "cell_type": "code",
   "execution_count": 5,
   "metadata": {
    "collapsed": true
   },
   "outputs": [],
   "source": [
    "def divisors(N):\n",
    "    \"\"\"Return the list of divisors of N.\"\"\"\n",
    "    # Initialize the list of divisors\n",
    "    divisor_list = [1]\n",
    "    # Check division by d for d <= N/2\n",
    "    for d in range(2,N // 2 + 1):\n",
    "        if N % d == 0:\n",
    "            divisor_list.append(d)\n",
    "    divisor_list.append(N)\n",
    "    return divisor_list"
   ]
  },
  {
   "cell_type": "code",
   "execution_count": null,
   "metadata": {
    "collapsed": true
   },
   "outputs": [],
   "source": [
    "def is_square(N):\n",
    "    \"\"\"Determine if N is square.\"\"\"\n",
    "    return N == round(N**0.5)**2"
   ]
  },
  {
   "cell_type": "code",
   "execution_count": 6,
   "metadata": {
    "collapsed": true
   },
   "outputs": [],
   "source": [
    "def rep_as_squares(N):\n",
    "    \"\"\"Find all representations of N as a sum of squares a**2 + b**2 = N.\"\"\"\n",
    "    reps = []\n",
    "    stop = int((N/2)**0.5)+1 \n",
    "    for a in range(1,stop):\n",
    "        b_squared = N - a**2\n",
    "        if is_square(b_squared):\n",
    "            b= round(b_squared)**0.5\n",
    "            reps.append([a,b])\n",
    "    return reps"
   ]
  },
  {
   "cell_type": "code",
   "execution_count": 7,
   "metadata": {
    "collapsed": true
   },
   "outputs": [],
   "source": [
    "def collatz(a):\n",
    "    \"\"\"Compute the Collatz sequence starting at a.\"\"\"\n",
    "    # Initialze the sequence with the fist value a.\n",
    "    x_list = [a]\n",
    "    # Continue computing values in the sequence until we reach 1.\n",
    "    while x_list[-1] != 1:\n",
    "        # Check if the last element in the list is even\n",
    "        if x_list[-1] % 2 == 0:\n",
    "            # Compute and append the new values\n",
    "            x_list.append(x_list[-1] // 2)\n",
    "        else:\n",
    "            # Compute and append the new values\n",
    "            x_list.append(3*x_list[-1] + 1)\n",
    "    return x_list"
   ]
  },
  {
   "cell_type": "code",
   "execution_count": 3,
   "metadata": {
    "collapsed": true
   },
   "outputs": [],
   "source": [
    "import number_theory"
   ]
  },
  {
   "cell_type": "markdown",
   "metadata": {},
   "source": [
    "Now all the functions in the file number_theory.oy are available to us! We use the dot notation to access them by name!"
   ]
  },
  {
   "cell_type": "code",
   "execution_count": 4,
   "metadata": {
    "collapsed": false
   },
   "outputs": [
    {
     "data": {
      "text/plain": [
       "True"
      ]
     },
     "execution_count": 4,
     "metadata": {},
     "output_type": "execute_result"
    }
   ],
   "source": [
    "number_theory.is_prime(2017)"
   ]
  },
  {
   "cell_type": "code",
   "execution_count": 5,
   "metadata": {
    "collapsed": false
   },
   "outputs": [
    {
     "data": {
      "text/plain": [
       "[[9, 44.0]]"
      ]
     },
     "execution_count": 5,
     "metadata": {},
     "output_type": "execute_result"
    }
   ],
   "source": [
    "number_theory.rep_as_squares(2017)"
   ]
  },
  {
   "cell_type": "code",
   "execution_count": 6,
   "metadata": {
    "collapsed": false
   },
   "outputs": [
    {
     "data": {
      "text/plain": [
       "[[200, 1400.0], [584, 1288.0], [680, 1240.0], [1000, 1000.0]]"
      ]
     },
     "execution_count": 6,
     "metadata": {},
     "output_type": "execute_result"
    }
   ],
   "source": [
    "number_theory.rep_as_squares(2000000)"
   ]
  },
  {
   "cell_type": "markdown",
   "metadata": {
    "collapsed": true
   },
   "source": [
    "Let's answer some ques using our number theory module!"
   ]
  },
  {
   "cell_type": "markdown",
   "metadata": {},
   "source": [
    "1. What is the smallest integer that can be expressed as a sum of squares in 5 ways?\n",
    "2. What is the smallest prime number that can be expressed as a sum of squares in 3 ways?"
   ]
  },
  {
   "cell_type": "code",
   "execution_count": 14,
   "metadata": {
    "collapsed": false
   },
   "outputs": [
    {
     "name": "stdout",
     "output_type": "stream",
     "text": [
      "5525 - [[7, 74.0], [14, 73.0], [22, 71.0], [25, 70.0], [41, 62.0], [50, 55.0]]\n",
      "9425 - [[4, 97.0], [20, 95.0], [31, 92.0], [41, 88.0], [55, 80.0], [64, 73.0]]\n"
     ]
    }
   ],
   "source": [
    "for N in range(5525,10000):\n",
    "    reps = number_theory.rep_as_squares(N)\n",
    "    if len(reps)>5:\n",
    "        print(N,'-',reps)"
   ]
  },
  {
   "cell_type": "markdown",
   "metadata": {},
   "source": [
    "## 2. Overview of NumPy and Matplotlib\n",
    "\n",
    "NumPy is the core scientific computing package. We use it to create arrays and do array operations. Matplotlib is the plotting library and depends on NumPy.\n"
   ]
  },
  {
   "cell_type": "code",
   "execution_count": 15,
   "metadata": {
    "collapsed": true
   },
   "outputs": [],
   "source": [
    "import numpy as np"
   ]
  },
  {
   "cell_type": "code",
   "execution_count": 16,
   "metadata": {
    "collapsed": true
   },
   "outputs": [],
   "source": [
    "x = np.linspace(0,1,101)"
   ]
  },
  {
   "cell_type": "code",
   "execution_count": 17,
   "metadata": {
    "collapsed": false
   },
   "outputs": [
    {
     "name": "stdout",
     "output_type": "stream",
     "text": [
      "[ 0.    0.01  0.02  0.03  0.04  0.05  0.06  0.07  0.08  0.09  0.1   0.11\n",
      "  0.12  0.13  0.14  0.15  0.16  0.17  0.18  0.19  0.2   0.21  0.22  0.23\n",
      "  0.24  0.25  0.26  0.27  0.28  0.29  0.3   0.31  0.32  0.33  0.34  0.35\n",
      "  0.36  0.37  0.38  0.39  0.4   0.41  0.42  0.43  0.44  0.45  0.46  0.47\n",
      "  0.48  0.49  0.5   0.51  0.52  0.53  0.54  0.55  0.56  0.57  0.58  0.59\n",
      "  0.6   0.61  0.62  0.63  0.64  0.65  0.66  0.67  0.68  0.69  0.7   0.71\n",
      "  0.72  0.73  0.74  0.75  0.76  0.77  0.78  0.79  0.8   0.81  0.82  0.83\n",
      "  0.84  0.85  0.86  0.87  0.88  0.89  0.9   0.91  0.92  0.93  0.94  0.95\n",
      "  0.96  0.97  0.98  0.99  1.  ]\n"
     ]
    }
   ],
   "source": [
    "print(x)"
   ]
  },
  {
   "cell_type": "code",
   "execution_count": 18,
   "metadata": {
    "collapsed": true
   },
   "outputs": [],
   "source": [
    "y=np.cos(x)"
   ]
  },
  {
   "cell_type": "code",
   "execution_count": 19,
   "metadata": {
    "collapsed": false
   },
   "outputs": [
    {
     "name": "stdout",
     "output_type": "stream",
     "text": [
      "[ 1.          0.99995     0.99980001  0.99955003  0.99920011  0.99875026\n",
      "  0.99820054  0.997551    0.99680171  0.99595273  0.99500417  0.9939561\n",
      "  0.99280864  0.99156189  0.990216    0.98877108  0.98722728  0.98558477\n",
      "  0.98384369  0.98200424  0.98006658  0.97803091  0.97589745  0.9736664\n",
      "  0.97133797  0.96891242  0.96638998  0.9637709   0.96105544  0.95824388\n",
      "  0.95533649  0.95233357  0.94923542  0.94604234  0.94275467  0.93937271\n",
      "  0.93589682  0.93232735  0.92866464  0.92490906  0.92106099  0.91712082\n",
      "  0.91308894  0.90896575  0.90475166  0.9004471   0.8960525   0.89156829\n",
      "  0.88699492  0.88233286  0.87758256  0.87274451  0.86781918  0.86280707\n",
      "  0.85770868  0.85252452  0.84725511  0.84190098  0.83646265  0.83094068\n",
      "  0.82533561  0.81964802  0.81387846  0.80802751  0.80209576  0.7960838\n",
      "  0.78999223  0.78382167  0.77757272  0.77124601  0.76484219  0.75836188\n",
      "  0.75180573  0.7451744   0.73846856  0.73168887  0.72483601  0.71791067\n",
      "  0.71091354  0.70384532  0.69670671  0.68949843  0.68222121  0.67487576\n",
      "  0.66746283  0.65998315  0.65243747  0.64482655  0.63715114  0.62941203\n",
      "  0.62160997  0.61374575  0.60582016  0.59783398  0.58978803  0.58168309\n",
      "  0.57351999  0.56529953  0.55702255  0.54868986  0.54030231]\n"
     ]
    }
   ],
   "source": [
    "print(y)"
   ]
  },
  {
   "cell_type": "code",
   "execution_count": 21,
   "metadata": {
    "collapsed": false
   },
   "outputs": [],
   "source": [
    "import matplotlib.pyplot as plt"
   ]
  },
  {
   "cell_type": "code",
   "execution_count": 22,
   "metadata": {
    "collapsed": true
   },
   "outputs": [],
   "source": [
    "%matplotlib inline"
   ]
  },
  {
   "cell_type": "code",
   "execution_count": 24,
   "metadata": {
    "collapsed": false
   },
   "outputs": [
    {
     "data": {
      "text/plain": [
       "[<matplotlib.lines.Line2D at 0x7fc8604b4a58>]"
      ]
     },
     "execution_count": 24,
     "metadata": {},
     "output_type": "execute_result"
    },
    {
     "data": {
      "image/png": "[encoded data removed]",
      "text/plain": [
       "<matplotlib.figure.Figure at 0x7fc860574dd8>"
      ]
     },
     "metadata": {},
     "output_type": "display_data"
    }
   ],
   "source": [
    "plt.plot(x,y)"
   ]
  },
  {
   "cell_type": "code",
   "execution_count": 26,
   "metadata": {
    "collapsed": false,
    "scrolled": true
   },
   "outputs": [
    {
     "data": {
      "text/plain": [
       "[<matplotlib.lines.Line2D at 0x7fc8603fbe48>]"
      ]
     },
     "execution_count": 26,
     "metadata": {},
     "output_type": "execute_result"
    },
    {
     "data": {
      "image/png": "[encoded data removed]",
      "text/plain": [
       "<matplotlib.figure.Figure at 0x7fc8604f18d0>"
      ]
     },
     "metadata": {},
     "output_type": "display_data"
    }
   ],
   "source": [
    "x= np.linspace(-5,5,1000)\n",
    "y= np.exp(-x**2)*np.cos(10*x)\n",
    "plt.plot(x,y)"
   ]
  },
  {
   "cell_type": "code",
   "execution_count": 1,
   "metadata": {
    "collapsed": false
   },
   "outputs": [
    {
     "data": {
      "text/plain": [
       "10"
      ]
     },
     "execution_count": 1,
     "metadata": {},
     "output_type": "execute_result"
    }
   ],
   "source": [
    "round(9.9)"
   ]
  },
  {
   "cell_type": "code",
   "execution_count": null,
   "metadata": {
    "collapsed": true
   },
   "outputs": [],
   "source": []
  }
 ],
 "metadata": {
  "kernelspec": {
   "display_name": "Python 3",
   "language": "python",
   "name": "python3"
  },
  "language_info": {
   "codemirror_mode": {
    "name": "ipython",
    "version": 3
   },
   "file_extension": ".py",
   "mimetype": "text/x-python",
   "name": "python",
   "nbconvert_exporter": "python",
   "pygments_lexer": "ipython3",
   "version": "3.5.2"
  }
 },
 "nbformat": 4,
 "nbformat_minor": 1
}
