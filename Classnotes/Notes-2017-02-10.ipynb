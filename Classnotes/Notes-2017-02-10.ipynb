{
 "cells": [
  {
   "cell_type": "markdown",
   "metadata": {
    "deletable": true,
    "editable": true
   },
   "source": [
    "# Math 210\n",
    "\n",
    "## Feb 10, 2017\n",
    "\n",
    "1. More 3D plotting\n",
    "2. Miscellaneous advanced topics\n",
    "  * Functions with keyword arguments\n",
    "  * List comprehensions with if/else\n",
    "3. Exercises"
   ]
  },
  {
   "cell_type": "code",
   "execution_count": null,
   "metadata": {
    "collapsed": true,
    "deletable": true,
    "editable": true
   },
   "outputs": [],
   "source": [
    "import numpy as np\n",
    "import matplotlib.pyplot as plt\n",
    "from mpl_toolkits.mplot3d import Axes3D\n",
    "%matplotlib inline"
   ]
  },
  {
   "cell_type": "markdown",
   "metadata": {
    "deletable": true,
    "editable": true
   },
   "source": [
    "## 1. More 3D plotting\n",
    "\n",
    "### Example\n",
    "\n",
    "Let's plot $z=x^2-y^2$ for $x,y \\in [-2,2]$."
   ]
  },
  {
   "cell_type": "code",
   "execution_count": null,
   "metadata": {
    "collapsed": false,
    "deletable": true,
    "editable": true
   },
   "outputs": [],
   "source": [
    "plt.figure()\n",
    "ax=plt.axes(projection='3d')\n",
    "\n",
    "x = np.linspace(-2,2,50)\n",
    "y = np.linspace(-2,2,50)\n",
    "X,Y=np.meshgrid(x,y)\n",
    "Z = X**2 - Y**2\n",
    "ax.plot_surface(X,Y,Z);"
   ]
  },
  {
   "cell_type": "code",
   "execution_count": null,
   "metadata": {
    "collapsed": false,
    "deletable": true,
    "editable": true
   },
   "outputs": [],
   "source": [
    "plt.figure()\n",
    "ax=plt.axes(projection='3d')\n",
    "\n",
    "ax.contour(X,Y,Z)"
   ]
  },
  {
   "cell_type": "code",
   "execution_count": null,
   "metadata": {
    "collapsed": false,
    "deletable": true,
    "editable": true
   },
   "outputs": [],
   "source": [
    "plt.figure()\n",
    "ax=plt.axes(projection='3d')\n",
    "\n",
    "ax.plot_wireframe(X,Y,Z)"
   ]
  },
  {
   "cell_type": "markdown",
   "metadata": {
    "deletable": true,
    "editable": true
   },
   "source": [
    "### Example\n",
    "\n",
    "Let's plot the trefoil knot in 3D:\n",
    "\n",
    "$$\n",
    "x=\\sin(t) +2\\sin(2t),y=\\cos(t) -2\\cos(2t),z=-\\sin(3t)\n",
    "$$\n",
    "for $t\\in[0,2\\pi]$."
   ]
  },
  {
   "cell_type": "code",
   "execution_count": null,
   "metadata": {
    "collapsed": false,
    "deletable": true,
    "editable": true
   },
   "outputs": [],
   "source": [
    "plt.figure()\n",
    "ax=plt.axes(projection='3d')\n",
    "\n",
    "t=np.linspace(0,2*np.pi)\n",
    "\n",
    "x=np.sin(t)+2*np.sin(2*t)\n",
    "y=np.cos(t)-2*np.cos(2*t)\n",
    "z=-np.sin(3*t)\n",
    "\n",
    "ax.view_init(90,0)\n",
    "ax.plot(x,y,z,lw=10);"
   ]
  },
  {
   "cell_type": "markdown",
   "metadata": {
    "deletable": true,
    "editable": true
   },
   "source": [
    "### Example\n",
    "Let's plot a 3D torus."
   ]
  },
  {
   "cell_type": "code",
   "execution_count": null,
   "metadata": {
    "collapsed": false,
    "deletable": true,
    "editable": true
   },
   "outputs": [],
   "source": [
    "plt.figure()\n",
    "ax=plt.axes(projection='3d')\n",
    "\n",
    "R=3\n",
    "r=1\n",
    "theta=np.linspace(0,2*np.pi,50)\n",
    "phi=np.linspace(0,2*np.pi,50)\n",
    "\n",
    "PHI,THETA =np.meshgrid(phi,theta)\n",
    "\n",
    "X=(R+r*np.cos(THETA))*np.cos(PHI)\n",
    "Y=(R+r*np.cos(THETA))*np.sin(PHI)\n",
    "Z=r*np.sin(THETA)\n",
    "\n",
    "ax.view_init(60,30)\n",
    "ax.plot_wireframe(X,Y,Z);"
   ]
  },
  {
   "cell_type": "markdown",
   "metadata": {
    "deletable": true,
    "editable": true
   },
   "source": [
    "## 2. Miscellaneous advanced topics\n",
    "\n",
    "### Keyword arguments\n",
    "\n",
    "We can define functions with keyword arguments such as:"
   ]
  },
  {
   "cell_type": "code",
   "execution_count": null,
   "metadata": {
    "collapsed": true,
    "deletable": true,
    "editable": true
   },
   "outputs": [],
   "source": [
    "def fun(a,b,add=True):\n",
    "    if add == True:\n",
    "        return a + b\n",
    "    else:\n",
    "        return a*b\n",
    "    "
   ]
  },
  {
   "cell_type": "code",
   "execution_count": null,
   "metadata": {
    "collapsed": false,
    "deletable": true,
    "editable": true
   },
   "outputs": [],
   "source": [
    "fun(1,2)"
   ]
  },
  {
   "cell_type": "markdown",
   "metadata": {
    "deletable": true,
    "editable": true
   },
   "source": [
    "In this example, `add` input parameter is called a keyword argument and it has a default value `True`.\n",
    "\n",
    "   The first 2 input parameters `a` and `b` are called positional arguments. This means thta the order in which values are input into `fun` determine which is `a` and which is `b`. In other words, in this example, when we call `fun(1,2)`, the function `fun` knows that `a=1` and `b=2` since that's the order they came."
   ]
  },
  {
   "cell_type": "code",
   "execution_count": null,
   "metadata": {
    "collapsed": false,
    "deletable": true,
    "editable": true
   },
   "outputs": [],
   "source": [
    "fun(3,5,add=False)"
   ]
  },
  {
   "cell_type": "code",
   "execution_count": null,
   "metadata": {
    "collapsed": false,
    "deletable": true,
    "editable": true
   },
   "outputs": [],
   "source": [
    "fun(2,3,10)"
   ]
  },
  {
   "cell_type": "code",
   "execution_count": null,
   "metadata": {
    "collapsed": false,
    "deletable": true,
    "editable": true
   },
   "outputs": [],
   "source": [
    "1==True"
   ]
  },
  {
   "cell_type": "code",
   "execution_count": null,
   "metadata": {
    "collapsed": false,
    "deletable": true,
    "editable": true
   },
   "outputs": [],
   "source": [
    "0==True"
   ]
  },
  {
   "cell_type": "code",
   "execution_count": null,
   "metadata": {
    "collapsed": false,
    "deletable": true,
    "editable": true
   },
   "outputs": [],
   "source": [
    "fun(2,3,1)"
   ]
  },
  {
   "cell_type": "markdown",
   "metadata": {
    "deletable": true,
    "editable": true
   },
   "source": [
    "### List comprehensions with if/else"
   ]
  },
  {
   "cell_type": "markdown",
   "metadata": {
    "deletable": true,
    "editable": true
   },
   "source": [
    "### Example\n",
    "\n",
    "Let's make a list from 1 to 100 which are either multiple of 3 or 7."
   ]
  },
  {
   "cell_type": "code",
   "execution_count": null,
   "metadata": {
    "collapsed": false,
    "deletable": true,
    "editable": true
   },
   "outputs": [],
   "source": [
    "[n for n in range(1,101) if n % 3 == 0 or n % 7 == 0 ]"
   ]
  },
  {
   "cell_type": "code",
   "execution_count": null,
   "metadata": {
    "collapsed": true
   },
   "outputs": [],
   "source": []
  }
 ],
 "metadata": {
  "kernelspec": {
   "display_name": "Python 3",
   "language": "python",
   "name": "python3"
  },
  "language_info": {
   "codemirror_mode": {
    "name": "ipython",
    "version": 3
   },
   "file_extension": ".py",
   "mimetype": "text/x-python",
   "name": "python",
   "nbconvert_exporter": "python",
   "pygments_lexer": "ipython3",
   "version": "3.5.2"
  }
 },
 "nbformat": 4,
 "nbformat_minor": 1
}
