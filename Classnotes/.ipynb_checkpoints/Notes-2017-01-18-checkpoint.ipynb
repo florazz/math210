{
 "cells": [
  {
   "cell_type": "markdown",
   "metadata": {},
   "source": [
    "# Math 210 \n",
    "\n",
    "## Jan 18, 2017\n",
    "\n",
    "1. Functions\n",
    "2. Exercises"
   ]
  },
  {
   "cell_type": "markdown",
   "metadata": {},
   "source": [
    "## 1. Functions\n",
    "\n",
    "A [function](https://docs.python.org/3/tutorial/controlflow.html#defining-functions) is a way for us to reuse a block of code with different input values. The syntax for defining a function is to use the `def` key word followed by the function's name and the `return` keyword to specify the output. For example, let's write down a function that computes the average of input `a` and `b`."
   ]
  },
  {
   "cell_type": "code",
   "execution_count": 4,
   "metadata": {
    "collapsed": true
   },
   "outputs": [],
   "source": [
    "def average(a,b):\n",
    "    return(a+b)/2"
   ]
  },
  {
   "cell_type": "markdown",
   "metadata": {},
   "source": [
    "In Python, code blocks are defined using indentation. This means that lines of code indented the same amount are considered one block.\n",
    "\n",
    "The variables `a` and `b` in the `def` statement are called **input parameters**. We need to call the function with values for the input parameters for the function to compute and return the return value."
   ]
  },
  {
   "cell_type": "code",
   "execution_count": 2,
   "metadata": {
    "collapsed": false
   },
   "outputs": [
    {
     "data": {
      "text/plain": [
       "2.5"
      ]
     },
     "execution_count": 2,
     "metadata": {},
     "output_type": "execute_result"
    }
   ],
   "source": [
    "average (1,4)"
   ]
  },
  {
   "cell_type": "code",
   "execution_count": 3,
   "metadata": {
    "collapsed": false
   },
   "outputs": [
    {
     "data": {
      "text/plain": [
       "15.0"
      ]
     },
     "execution_count": 3,
     "metadata": {},
     "output_type": "execute_result"
    }
   ],
   "source": [
    "average(10,20)"
   ]
  },
  {
   "cell_type": "markdown",
   "metadata": {},
   "source": [
    "A great way to visualize what is happening when we difine and then call a function is to use the [Python visualizer](http://pythontutor.com/visualize.html#mode=display)."
   ]
  },
  {
   "cell_type": "markdown",
   "metadata": {},
   "source": [
    "Let's write a function called `box` with 3 input parameters `w`, `h` and `d` representing the dimensions of a box such that the function returns the surface area and the volume (in that order as a list of length 2)."
   ]
  },
  {
   "cell_type": "code",
   "execution_count": 6,
   "metadata": {
    "collapsed": false
   },
   "outputs": [
    {
     "name": "stdout",
     "output_type": "stream",
     "text": [
      "[6, 1]\n",
      "[160, 100]\n",
      "[61200, 1030000]\n"
     ]
    }
   ],
   "source": [
    "# Function definition includes all the lines indented 4 spaces after def\n",
    "def box(w,h,d):\n",
    "    surface_area = 2*w*d + 2*h*d +2*h*w\n",
    "    volume = h*w*d\n",
    "    return [surface_area, volume]\n",
    "\n",
    "# The code below is not indented and therefore OUTSIDE the function definition\n",
    "print(box(1,1,1))\n",
    "print(box(10,2,5))\n",
    "print(box(100,100,103))"
   ]
  },
  {
   "cell_type": "markdown",
   "metadata": {},
   "source": [
    "Write a function called `roots` which takes 3 input parameters `a`, `b` and `c` representing the quadratic polynomial\n",
    "\n",
    "$$\n",
    "p(x) = ax^2 +bx +c\n",
    "$$\n",
    "\n",
    "which does the following:\n",
    "\n",
    "* if the roots of $p(x)$ are real and distinct, then return the roots as a list of length 2 (in increasing order)\n",
    "* if the roots are repeate, then return the single root\n",
    "* if the roots are complex, then return the list of complex roots\n"
   ]
  },
  {
   "cell_type": "code",
   "execution_count": 8,
   "metadata": {
    "collapsed": true
   },
   "outputs": [],
   "source": [
    "def roots(a,b,c):\n",
    "    discriminant = b**2 - 4*a*c\n",
    "    if discriminant > 0:\n",
    "        root_1 = -b + discriminant**(0.5)/(2*a)\n",
    "        root_2 = -b - discriminant**(0.5)/(2*a)\n",
    "        return sorted ([root_1, root_2])\n",
    "    elif discriminant < 0:\n",
    "        root_1 = -b + discriminant**(0.5)/(2*a)\n",
    "        root_2 = -b - discriminant**(0.5)/(2*a)\n",
    "        return [root_1, root_2]\n",
    "    else:\n",
    "        root = -b/(2*a)\n",
    "        return root"
   ]
  },
  {
   "cell_type": "code",
   "execution_count": 7,
   "metadata": {
    "collapsed": false
   },
   "outputs": [
    {
     "data": {
      "text/plain": [
       "[2, 3]"
      ]
     },
     "execution_count": 7,
     "metadata": {},
     "output_type": "execute_result"
    }
   ],
   "source": [
    "sorted([3,2])"
   ]
  },
  {
   "cell_type": "code",
   "execution_count": 9,
   "metadata": {
    "collapsed": false
   },
   "outputs": [
    {
     "data": {
      "text/plain": [
       "[-1.0, 1.0]"
      ]
     },
     "execution_count": 9,
     "metadata": {},
     "output_type": "execute_result"
    }
   ],
   "source": [
    "roots (1,0,-1)"
   ]
  },
  {
   "cell_type": "code",
   "execution_count": 10,
   "metadata": {
    "collapsed": false
   },
   "outputs": [
    {
     "data": {
      "text/plain": [
       "[(6.123233995736766e-17+1j), (-6.123233995736766e-17-1j)]"
      ]
     },
     "execution_count": 10,
     "metadata": {},
     "output_type": "execute_result"
    }
   ],
   "source": [
    "roots(1,0,1)"
   ]
  },
  {
   "cell_type": "code",
   "execution_count": 11,
   "metadata": {
    "collapsed": false
   },
   "outputs": [
    {
     "data": {
      "text/plain": [
       "-1.0"
      ]
     },
     "execution_count": 11,
     "metadata": {},
     "output_type": "execute_result"
    }
   ],
   "source": [
    "roots(1,2,1)"
   ]
  },
  {
   "cell_type": "code",
   "execution_count": 1,
   "metadata": {
    "collapsed": false
   },
   "outputs": [
    {
     "data": {
      "text/plain": [
       "[1, 1, 3]"
      ]
     },
     "execution_count": 1,
     "metadata": {},
     "output_type": "execute_result"
    }
   ],
   "source": [
    "sorted([3,1,1])"
   ]
  },
  {
   "cell_type": "code",
   "execution_count": null,
   "metadata": {
    "collapsed": true
   },
   "outputs": [],
   "source": []
  }
 ],
 "metadata": {
  "kernelspec": {
   "display_name": "Python 3",
   "language": "python",
   "name": "python3"
  },
  "language_info": {
   "codemirror_mode": {
    "name": "ipython",
    "version": 3
   },
   "file_extension": ".py",
   "mimetype": "text/x-python",
   "name": "python",
   "nbconvert_exporter": "python",
   "pygments_lexer": "ipython3",
   "version": "3.5.2"
  }
 },
 "nbformat": 4,
 "nbformat_minor": 1
}
