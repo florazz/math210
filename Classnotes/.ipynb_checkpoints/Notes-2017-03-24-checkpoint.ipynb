{
 "cells": [
  {
   "cell_type": "markdown",
   "metadata": {
    "deletable": true,
    "editable": true
   },
   "source": [
    "# Math 210 \n",
    "\n",
    "## March 24, 2017\n",
    "\n",
    "* Solving systems of ODEs\n",
    "    * Planetary orbits\n",
    "    * Euler's three body problem"
   ]
  },
  {
   "cell_type": "code",
   "execution_count": null,
   "metadata": {
    "collapsed": true,
    "deletable": true,
    "editable": true
   },
   "outputs": [],
   "source": [
    "import numpy as np\n",
    "import matplotlib.pyplot as plt\n",
    "import scipy.integrate as spi\n",
    "%matplotlib inline"
   ]
  },
  {
   "cell_type": "markdown",
   "metadata": {
    "deletable": true,
    "editable": true
   },
   "source": [
    "## 1. Planetary orbits\n",
    "\n",
    "The force of gravity of a mass $M$ acting on a mass $m$ is\n",
    "\n",
    "$$\n",
    "F = \\frac{GMm}{d^2}\n",
    "$$\n",
    "\n",
    "where $d$ is the distance between them and $G$ is the gravitational constant. If we choose to measure time in years and distance in AU (astronomical units, the distance from the Earth to the Sun) and mass in solar mass (multiples of our sun's mass), then $G = 4\\pi^2$.\n",
    "\n",
    "The direction of the force acting on the mass $m$ is in the direction towards the mass $M$. If we fix the mass $M$ at the origin $(0,0)$ the the $x$ and $y$ components of gravity acting on $m$ is \n",
    "\n",
    "$$\n",
    "\\begin{align}\n",
    "F_x &= -\\frac{GMm}{(x^2+y^2)^{3/2}}x \\\\\n",
    "F_y &= -\\frac{GMm}{(x^2+y^2)^{3/2}}y \\\\\n",
    "\\end{align}\n",
    "$$"
   ]
  },
  {
   "cell_type": "markdown",
   "metadata": {
    "deletable": true,
    "editable": true
   },
   "source": [
    "Using Newton's law of motion $F = ma$ we can write the $x$ and $y$ components of the acceleration as\n",
    "\n",
    "$$\n",
    "\\begin{align}\n",
    "x'' &= -\\frac{GM}{(x^2+y^2)^{3/2}}x \\\\\n",
    "y'' &= -\\frac{GM}{(x^2+y^2)^{3/2}}y \\\\\n",
    "\\end{align}\n",
    "$$"
   ]
  },
  {
   "cell_type": "markdown",
   "metadata": {
    "deletable": true,
    "editable": true
   },
   "source": [
    "This is a 2D system of second order ODEs. to rewrite this as a first order systm, let's introduce variables $u_0 = x$, $u_1 = x'$, $u_2 = y$, and $u_3 = y'$ and write\n",
    "\n",
    "$$\n",
    "\\begin{align}\n",
    "u_0' &= u_1 \\\\\n",
    "u_1' &= -\\frac{GM}{(u_0^2+u_2^2)^{3/2}}u_0 \\\\\n",
    "u_2' &= u_3 \\\\\n",
    "u_3' &= -\\frac{GM}{(u_0^2+u_2^2)^{3/2}}u_2 \\\\\n",
    "\\end{align}\n",
    "$$\n",
    "\n",
    "This is a 4D system of first order equations. Let's use `odeint` to solve it!"
   ]
  },
  {
   "cell_type": "code",
   "execution_count": null,
   "metadata": {
    "collapsed": true,
    "deletable": true,
    "editable": true
   },
   "outputs": [],
   "source": []
  }
 ],
 "metadata": {
  "kernelspec": {
   "display_name": "Python 3",
   "language": "python",
   "name": "python3"
  },
  "language_info": {
   "codemirror_mode": {
    "name": "ipython",
    "version": 3
   },
   "file_extension": ".py",
   "mimetype": "text/x-python",
   "name": "python",
   "nbconvert_exporter": "python",
   "pygments_lexer": "ipython3",
   "version": "3.5.2"
  }
 },
 "nbformat": 4,
 "nbformat_minor": 2
}
